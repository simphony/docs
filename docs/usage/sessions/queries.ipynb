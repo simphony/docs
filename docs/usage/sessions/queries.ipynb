{
 "cells": [
  {
   "cell_type": "markdown",
   "metadata": {},
   "source": [
    "# Queries: using the session object\n",
    "\n",
    "<figure style=\"display: table; text-align:center; margin-left: auto; margin-right:auto\">\n",
    "\n",
    "[![Binder](https://mybinder.org/badge_logo.svg)](https://binder.materials-data.space/v2/gh/simphony/docs/dome4.0?filepath=docs%2Fusage%2Fsessions%2Fqueries.ipynb \"Click to run this tutorial yourself!\")\n",
    "    \n",
    "</figure>"
   ]
  },
  {
   "cell_type": "markdown",
   "metadata": {},
   "source": [
    "SimPhoNy's [session object](../../api_reference.md#simphony_osp.session.Session) implements methods that enable the retrieval of the ontology individuals it contains. The queries that can be run using such methods are extremely basic. If you need to run more advanced queries, head to the sections dealing with the [search module](search.ipynb) and [SPARQL](sparql.ipynb)."
   ]
  },
  {
   "cell_type": "markdown",
   "metadata": {},
   "source": [
    "Consider a similar example from the city ontology again. Remember that by default, newly created individuals created are stored in the [Core Session](introduction.ipynb)."
   ]
  },
  {
   "cell_type": "code",
   "execution_count": 1,
   "metadata": {},
   "outputs": [],
   "source": [
    "from simphony_osp.namespaces import city, rdfs\n",
    "from simphony_osp.session import core_session\n",
    "\n",
    "freiburg = city.City(name=\"Freiburg\", coordinates=[47.997791, 7.842609])\n",
    "\n",
    "neighborhoods = {\n",
    "    city.Neighborhood(name=name, coordinates=coordinates)\n",
    "    for name, coordinates in [\n",
    "        ('Altstadt', [47.99525, 7.84726]),\n",
    "        ('Stühlinger', [47.99888, 7.83774]),\n",
    "        ('Neuburg', [48.00021, 7.86084]),\n",
    "        ('Herdern', [48.00779, 7.86268]),\n",
    "        ('Brühl', [48.01684, 7.843]),\n",
    "    ]\n",
    "}\n",
    "\n",
    "citizen_1 = city.Citizen(name='Nikola', age=35,\n",
    "                         iri='https://example.org/entities#Nikola')\n",
    "citizen_2 = city.Citizen(name='Lena', age=70,\n",
    "                         iri='https://example.org/entities#Lena')\n",
    "citizen_2[rdfs.label] = 'Helena'\n",
    "citizen_3 = city.Citizen(name='Marco', age=36,\n",
    "                         iri='https://example.org/entities#Marco')\n",
    "citizen_3[rdfs.label] = 'Marco'\n",
    "\n",
    "freiburg[city.hasPart] |= neighborhoods\n",
    "freiburg[city.hasInhabitant] += citizen_1, citizen_2"
   ]
  },
  {
   "cell_type": "markdown",
   "metadata": {},
   "source": [
    "As shown in a [previous section](management.ipynb), the session object is iterable. This means that a simple method (althought very inefficient) to retrieve the individuals in the session is just iterating over the session object. It is also possible to know how many individuals are contained in a session using the Python built-in `len`."
   ]
  },
  {
   "cell_type": "code",
   "execution_count": 8,
   "metadata": {},
   "outputs": [
    {
     "data": {
      "text/plain": [
       "[<OntologyIndividual: bd967f58-048b-45c2-bfba-d0ad7a1d4dc2>,\n",
       " <OntologyIndividual: f2f1dfb2-4fb9-4255-8059-9d9a56029721>,\n",
       " <OntologyIndividual: b706791a-93be-4192-9b2a-bf9e027ba47b>,\n",
       " <OntologyIndividual: 795c9172-cd38-4998-9f52-d6244e39c699>,\n",
       " <OntologyIndividual: 6087bd19-c53d-4b47-ad24-ec29b5585902>,\n",
       " <OntologyIndividual: a7700db4-5d6f-4eea-9a4c-488aab13b4be>,\n",
       " <OntologyIndividual: https://example.org/entities#Nikola>,\n",
       " <OntologyIndividual: Helena https://example.org/entities#Lena>]"
      ]
     },
     "execution_count": 8,
     "metadata": {},
     "output_type": "execute_result"
    }
   ],
   "source": [
    "list(core_session)  # iterates over the session, very slow with big data"
   ]
  },
  {
   "cell_type": "code",
   "execution_count": 3,
   "metadata": {},
   "outputs": [
    {
     "data": {
      "text/plain": [
       "9"
      ]
     },
     "execution_count": 3,
     "metadata": {},
     "output_type": "execute_result"
    }
   ],
   "source": [
    "len(core_session)"
   ]
  },
  {
   "cell_type": "markdown",
   "metadata": {},
   "source": [
    "The session object also features a [get](../../api_reference.md#simphony_osp.session.Session.get) method that is similar to the [get method from ontology individuals](../assertional_knowledge.ipynb#Using-the-get,-iter,-connect,-and-disconnect-methods-(relationships-only)). It returns, in fact, a set-like object that manages the individuals contained in the session. Consequently, it is even possible to add and remove individuals from the session using in-place modifcations (although not very practical). The most common use case of the method is just retrieving ontology individuals."
   ]
  },
  {
   "cell_type": "code",
   "execution_count": 4,
   "metadata": {},
   "outputs": [],
   "source": [
    "core_session.get()"
   ]
  },
  {
   "cell_type": "markdown",
   "metadata": {},
   "source": [
    "Just like for the get method from ontology individuals, it is possible to filter the results to specific individuals (given their identifier is known or they are already available as objects) and classes, as well as any combination of both. "
   ]
  },
  {
   "cell_type": "code",
   "execution_count": 5,
   "metadata": {},
   "outputs": [
    {
     "data": {
      "text/plain": [
       "<OntologyIndividual: Helena https://example.org/entities#Lena>"
      ]
     },
     "execution_count": 5,
     "metadata": {},
     "output_type": "execute_result"
    }
   ],
   "source": [
    "core_session.get('https://example.org/entities#Lena')"
   ]
  },
  {
   "cell_type": "code",
   "execution_count": 6,
   "metadata": {},
   "outputs": [
    {
     "data": {
      "text/plain": [
       "{<OntologyIndividual: https://example.org/entities#Nikola>, <OntologyIndividual: Helena https://example.org/entities#Lena>} <class Citizen of session default session>"
      ]
     },
     "execution_count": 6,
     "metadata": {},
     "output_type": "execute_result"
    }
   ],
   "source": [
    "core_session.get(oclass=city.Citizen)"
   ]
  },
  {
   "cell_type": "markdown",
   "metadata": {},
   "source": [
    "Finally, if a [label](../terminological_knowledge.ipynb#Accessing-an-entity%E2%80%99s-label) has been given to the individual, then it is also possible to use it as retrieval method."
   ]
  },
  {
   "cell_type": "code",
   "execution_count": 7,
   "metadata": {},
   "outputs": [
    {
     "data": {
      "text/plain": [
       "frozenset({<OntologyIndividual: Helena https://example.org/entities#Lena>})"
      ]
     },
     "execution_count": 7,
     "metadata": {},
     "output_type": "execute_result"
    }
   ],
   "source": [
    "core_session.from_label('Helena')"
   ]
  }
 ],
 "metadata": {
  "kernelspec": {
   "display_name": "Python 3",
   "language": "python",
   "name": "python3"
  },
  "language_info": {
   "codemirror_mode": {
    "name": "ipython",
    "version": 3
   },
   "file_extension": ".py",
   "mimetype": "text/x-python",
   "name": "python",
   "nbconvert_exporter": "python",
   "pygments_lexer": "ipython3",
   "version": "3.8.12"
  },
  "toc-showcode": false,
  "toc-showtags": true
 },
 "nbformat": 4,
 "nbformat_minor": 4
}
