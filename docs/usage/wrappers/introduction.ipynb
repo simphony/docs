{
 "cells": [
  {
   "cell_type": "markdown",
   "metadata": {},
   "source": [
    "# Introduction\n",
    "\n",
    "<figure style=\"display: table; text-align:center; margin-left: auto; margin-right:auto\">\n",
    "\n",
    "[![Binder](https://mybinder.org/badge_logo.svg)](https://mybinder.org/v2/gh/simphony/docs/v4.0.0rc3?filepath=docs%2Fusage%2Fwrappers%2Fintroduction.ipynb \"Click to run this tutorial yourself!\")\n",
    "    \n",
    "</figure>"
   ]
  },
  {
   "cell_type": "markdown",
   "metadata": {},
   "source": [
    "SimPhoNy Wrappers are pieces of software that seamlessly translate [assertional knowledge](../assertional_knowledge.ipynb) to a form that is compatible with a specific simulation engine, database, data repository or file format. The way to interact with wrappers is through a [session object](../../api_reference.md#simphony_osp.session.Session) that is connected to them. Therefore, before continuing, make sure that you have read the [previous section on sessions](../sessions/index.md)."
   ]
  },
  {
   "cell_type": "markdown",
   "metadata": {},
   "source": [
    "A few wrappers are included with SimPhoNy, but generally, they must be [installed separately](../introduction/installation.md#Wrapper-installation). The included wrappers are:\n",
    "\n",
    "- [SQLite wrapper](sqlite.ipynb)\n",
    "- [SQLAlchemy wrapper](sqlalchemy.ipynb)\n",
    "- [Dataspace wrapper](dataspace.ipynb)\n",
    "- [Remote wrapper](remote.ipynb)\n",
    "\n",
    "After installation, wrappers are available under the `simphony_osp.wrappers` module."
   ]
  },
  {
   "cell_type": "markdown",
   "metadata": {},
   "source": [
    "<div class=\"admonition important\">\n",
    "<div class=\"admonition-title\" style=\"font-weight: bold\"><div style=\"display: inline-block\">Tip</div></div>\n",
    "    \n",
    "The `simphony_osp.wrappers` module supports IPython autocompletion. When working on a Jupyter notebook, it is possible to get the installed wrappers as suggestions writing <code class=\"pre\">`from simphony_osp.wrappers import `</code> and pressing TAB.\n",
    "\n",
    "</div>"
   ]
  },
  {
   "cell_type": "markdown",
   "metadata": {},
   "source": [
    "As described on the [introduction to sessions](../sessions/introduction.ipynb), sessions, and as a consequence also wrappers, work in a way similar to databases.  To start using them, one first has to “open” or “connect” to them. After that, changes can be performed on the data they contain, but such changes are not made permanent until a “commit” is performed. When one finishes working with them, the connection should be “closed”. Unconfirmed changes are lost when the connection is “closed”."
   ]
  },
  {
   "cell_type": "markdown",
   "metadata": {},
   "source": [
    "Let's see how to manage a wrapper session using the SQLite wrapper as example."
   ]
  },
  {
   "cell_type": "code",
   "execution_count": 1,
   "metadata": {},
   "outputs": [],
   "source": [
    "from simphony_osp.wrappers import SQLite"
   ]
  },
  {
   "cell_type": "markdown",
   "metadata": {},
   "source": [
    "To initialize a session linked to a wrapper, call the imported object. Wrappers take two positional arguments: the `configuration_string` and the `create` argument.\n",
    "\n",
    "The configuration string lets the wrapper know which resource to \"open\" or to \"connect to\". For the SQLite wrapper, it is the path of an SQLite database file. The `create` arguments can be set to `True` to ask the wrapper to create the resource specified by the configuration string if it does not already exist."
   ]
  },
  {
   "cell_type": "code",
   "execution_count": 2,
   "metadata": {},
   "outputs": [
    {
     "data": {
      "text/plain": [
       "<simphony_osp.session.session.Session at 0x7f25580ac370>"
      ]
     },
     "execution_count": 2,
     "metadata": {},
     "output_type": "execute_result"
    }
   ],
   "source": [
    "sqlite = SQLite('database.db', True)\n",
    "sqlite.clear();  # just in case you already ran this notebook\n",
    "sqlite.lock();  # was explained in the \"introduction to sessions\" section\n",
    "sqlite"
   ]
  },
  {
   "cell_type": "code",
   "execution_count": 3,
   "metadata": {},
   "outputs": [
    {
     "data": {
      "text/plain": [
       "0"
      ]
     },
     "execution_count": 3,
     "metadata": {},
     "output_type": "execute_result"
    }
   ],
   "source": [
    "len(sqlite)"
   ]
  },
  {
   "cell_type": "markdown",
   "metadata": {},
   "source": [
    "<div class=\"admonition note\">\n",
    "<div class=\"admonition-title\" style=\"font-weight: bold\"><div style=\"display: inline-block\">Note</div></div>\n",
    "    \n",
    "Some wrappers may accept additional keyword arguments.\n",
    "    \n",
    "</div>"
   ]
  },
  {
   "cell_type": "markdown",
   "metadata": {},
   "source": [
    "As you can see, the `sqlite` object that has been created is just a normal session that can store ontology individuals. The wrapper session is **automatically \"opened\" when it is created**."
   ]
  },
  {
   "cell_type": "code",
   "execution_count": 4,
   "metadata": {},
   "outputs": [
    {
     "data": {
      "image/svg+xml": [
       "<?xml version=\"1.0\" encoding=\"UTF-8\" standalone=\"no\"?>\n",
       "<!DOCTYPE svg PUBLIC \"-//W3C//DTD SVG 1.1//EN\"\n",
       " \"http://www.w3.org/Graphics/SVG/1.1/DTD/svg11.dtd\">\n",
       "<!-- Generated by graphviz version 5.0.1 (0)\n",
       " -->\n",
       "<!-- Title: SimPhoNy semantic2dot Pages: 1 -->\n",
       "<svg width=\"524pt\" height=\"325pt\"\n",
       " viewBox=\"0.00 0.00 523.90 324.87\" xmlns=\"http://www.w3.org/2000/svg\" xmlns:xlink=\"http://www.w3.org/1999/xlink\">\n",
       "<g id=\"graph0\" class=\"graph\" transform=\"scale(1 1) rotate(0) translate(4 320.87)\">\n",
       "<title>SimPhoNy semantic2dot</title>\n",
       "<polygon fill=\"white\" stroke=\"none\" points=\"-4,4 -4,-320.87 519.9,-320.87 519.9,4 -4,4\"/>\n",
       "<!-- https___www.simphony&#45;osp.eu_entity#8866b5c9&#45;f8e5&#45;42df&#45;bcb1&#45;43777aba30ab -->\n",
       "<g id=\"node1\" class=\"node\">\n",
       "<title>https___www.simphony&#45;osp.eu_entity#8866b5c9&#45;f8e5&#45;42df&#45;bcb1&#45;43777aba30ab</title>\n",
       "<ellipse fill=\"none\" stroke=\"black\" cx=\"257.45\" cy=\"-250.4\" rx=\"197.98\" ry=\"66.44\"/>\n",
       "<text text-anchor=\"start\" x=\"201.95\" y=\"-278.2\" font-family=\"Times,serif\" font-size=\"14.00\">8866b5c9...0ab</text>\n",
       "<text text-anchor=\"start\" x=\"191.95\" y=\"-257.2\" font-family=\"Times,serif\" font-size=\"14.00\">classes: City (city)</text>\n",
       "<text text-anchor=\"start\" x=\"201.45\" y=\"-236.2\" font-family=\"Times,serif\" font-size=\"14.00\">name: Freiburg</text>\n",
       "<text text-anchor=\"start\" x=\"129.45\" y=\"-215.2\" font-family=\"Times,serif\" font-size=\"14.00\">coordinates: [47.997791 &#160;7.842609]</text>\n",
       "</g>\n",
       "<!-- https___www.simphony&#45;osp.eu_entity#56191885&#45;e60c&#45;4347&#45;a3aa&#45;f0337b9a4b16 -->\n",
       "<g id=\"node2\" class=\"node\">\n",
       "<title>https___www.simphony&#45;osp.eu_entity#56191885&#45;e60c&#45;4347&#45;a3aa&#45;f0337b9a4b16</title>\n",
       "<ellipse fill=\"none\" stroke=\"black\" cx=\"124.45\" cy=\"-66.47\" rx=\"124.4\" ry=\"66.44\"/>\n",
       "<text text-anchor=\"start\" x=\"67.95\" y=\"-94.27\" font-family=\"Times,serif\" font-size=\"14.00\">56191885...b16</text>\n",
       "<text text-anchor=\"start\" x=\"48.45\" y=\"-73.27\" font-family=\"Times,serif\" font-size=\"14.00\">classes: Citizen (city)</text>\n",
       "<text text-anchor=\"start\" x=\"97.95\" y=\"-52.27\" font-family=\"Times,serif\" font-size=\"14.00\">age: 30</text>\n",
       "<text text-anchor=\"start\" x=\"80.95\" y=\"-31.27\" font-family=\"Times,serif\" font-size=\"14.00\">name: Peter</text>\n",
       "</g>\n",
       "<!-- https___www.simphony&#45;osp.eu_entity#8866b5c9&#45;f8e5&#45;42df&#45;bcb1&#45;43777aba30ab&#45;&gt;https___www.simphony&#45;osp.eu_entity#56191885&#45;e60c&#45;4347&#45;a3aa&#45;f0337b9a4b16 -->\n",
       "<g id=\"edge2\" class=\"edge\">\n",
       "<title>https___www.simphony&#45;osp.eu_entity#8866b5c9&#45;f8e5&#45;42df&#45;bcb1&#45;43777aba30ab&#45;&gt;https___www.simphony&#45;osp.eu_entity#56191885&#45;e60c&#45;4347&#45;a3aa&#45;f0337b9a4b16</title>\n",
       "<path fill=\"none\" stroke=\"black\" d=\"M210.93,-185.77C199.39,-169.98 186.96,-152.97 175.22,-136.91\"/>\n",
       "<polygon fill=\"black\" stroke=\"black\" points=\"177.88,-134.62 169.15,-128.62 172.23,-138.75 177.88,-134.62\"/>\n",
       "<text text-anchor=\"middle\" x=\"267.95\" y=\"-154.74\" font-family=\"Times,serif\" font-size=\"14.00\">has inhabitant (city)</text>\n",
       "</g>\n",
       "<!-- https___www.simphony&#45;osp.eu_entity#cdfc0dbc&#45;675e&#45;4a77&#45;92db&#45;50ff964a37a2 -->\n",
       "<g id=\"node3\" class=\"node\">\n",
       "<title>https___www.simphony&#45;osp.eu_entity#cdfc0dbc&#45;675e&#45;4a77&#45;92db&#45;50ff964a37a2</title>\n",
       "<ellipse fill=\"none\" stroke=\"black\" cx=\"391.45\" cy=\"-66.47\" rx=\"124.4\" ry=\"66.44\"/>\n",
       "<text text-anchor=\"start\" x=\"339.45\" y=\"-94.27\" font-family=\"Times,serif\" font-size=\"14.00\">cdfc0dbc...7a2</text>\n",
       "<text text-anchor=\"start\" x=\"315.45\" y=\"-73.27\" font-family=\"Times,serif\" font-size=\"14.00\">classes: Citizen (city)</text>\n",
       "<text text-anchor=\"start\" x=\"364.95\" y=\"-52.27\" font-family=\"Times,serif\" font-size=\"14.00\">age: 20</text>\n",
       "<text text-anchor=\"start\" x=\"348.95\" y=\"-31.27\" font-family=\"Times,serif\" font-size=\"14.00\">name: Anne</text>\n",
       "</g>\n",
       "<!-- https___www.simphony&#45;osp.eu_entity#8866b5c9&#45;f8e5&#45;42df&#45;bcb1&#45;43777aba30ab&#45;&gt;https___www.simphony&#45;osp.eu_entity#cdfc0dbc&#45;675e&#45;4a77&#45;92db&#45;50ff964a37a2 -->\n",
       "<g id=\"edge1\" class=\"edge\">\n",
       "<title>https___www.simphony&#45;osp.eu_entity#8866b5c9&#45;f8e5&#45;42df&#45;bcb1&#45;43777aba30ab&#45;&gt;https___www.simphony&#45;osp.eu_entity#cdfc0dbc&#45;675e&#45;4a77&#45;92db&#45;50ff964a37a2</title>\n",
       "<path fill=\"none\" stroke=\"black\" d=\"M326.53,-187.84C332.95,-180.77 339.06,-173.4 344.45,-165.94 350.15,-158.05 355.46,-149.36 360.29,-140.51\"/>\n",
       "<polygon fill=\"black\" stroke=\"black\" points=\"363.41,-142.11 364.98,-131.63 357.22,-138.85 363.41,-142.11\"/>\n",
       "<text text-anchor=\"middle\" x=\"425.95\" y=\"-154.74\" font-family=\"Times,serif\" font-size=\"14.00\">has inhabitant (city)</text>\n",
       "</g>\n",
       "</g>\n",
       "</svg>\n"
      ],
      "text/plain": [
       "<simphony_osp.tools.semantic2dot.Semantic2Dot at 0x7f25580be700>"
      ]
     },
     "execution_count": 4,
     "metadata": {},
     "output_type": "execute_result"
    }
   ],
   "source": [
    "from simphony_osp.namespaces import city\n",
    "from simphony_osp.tools import semantic2dot\n",
    "\n",
    "with sqlite:\n",
    "    freiburg = city.City(name=\"Freiburg\", coordinates=[47.997791, 7.842609])\n",
    "    peter = city.Citizen(name=\"Peter\", age=30)\n",
    "    anne = city.Citizen(name=\"Anne\", age=20)\n",
    "    freiburg[city.hasInhabitant] += peter, anne\n",
    "    \n",
    "semantic2dot(sqlite)"
   ]
  },
  {
   "cell_type": "markdown",
   "metadata": {},
   "source": [
    "To confirm the set of changes that have been performed, it is necessary to \"commit\" them. Remember that **uncommitted changes are lost** after closing the session or the Python shell."
   ]
  },
  {
   "cell_type": "code",
   "execution_count": 5,
   "metadata": {},
   "outputs": [],
   "source": [
    "sqlite.commit()"
   ]
  },
  {
   "cell_type": "markdown",
   "metadata": {},
   "source": [
    "After the job is done, the session should be \"closed\" to free the resource that is being used. In the SQLite case, to close the database file."
   ]
  },
  {
   "cell_type": "code",
   "execution_count": 6,
   "metadata": {},
   "outputs": [],
   "source": [
    "sqlite.close()"
   ]
  },
  {
   "cell_type": "markdown",
   "metadata": {},
   "source": [
    "The city and its citizens have been successfully saved to the database file. If the wrapper is used to reopen the database, the saved individuals will be available in the resulting session object."
   ]
  },
  {
   "cell_type": "code",
   "execution_count": 7,
   "metadata": {},
   "outputs": [
    {
     "data": {
      "image/svg+xml": [
       "<?xml version=\"1.0\" encoding=\"UTF-8\" standalone=\"no\"?>\n",
       "<!DOCTYPE svg PUBLIC \"-//W3C//DTD SVG 1.1//EN\"\n",
       " \"http://www.w3.org/Graphics/SVG/1.1/DTD/svg11.dtd\">\n",
       "<!-- Generated by graphviz version 5.0.1 (0)\n",
       " -->\n",
       "<!-- Title: SimPhoNy semantic2dot Pages: 1 -->\n",
       "<svg width=\"524pt\" height=\"325pt\"\n",
       " viewBox=\"0.00 0.00 523.90 324.87\" xmlns=\"http://www.w3.org/2000/svg\" xmlns:xlink=\"http://www.w3.org/1999/xlink\">\n",
       "<g id=\"graph0\" class=\"graph\" transform=\"scale(1 1) rotate(0) translate(4 320.87)\">\n",
       "<title>SimPhoNy semantic2dot</title>\n",
       "<polygon fill=\"white\" stroke=\"none\" points=\"-4,4 -4,-320.87 519.9,-320.87 519.9,4 -4,4\"/>\n",
       "<!-- https___www.simphony&#45;osp.eu_entity#8866b5c9&#45;f8e5&#45;42df&#45;bcb1&#45;43777aba30ab -->\n",
       "<g id=\"node1\" class=\"node\">\n",
       "<title>https___www.simphony&#45;osp.eu_entity#8866b5c9&#45;f8e5&#45;42df&#45;bcb1&#45;43777aba30ab</title>\n",
       "<ellipse fill=\"none\" stroke=\"black\" cx=\"257.45\" cy=\"-250.4\" rx=\"197.98\" ry=\"66.44\"/>\n",
       "<text text-anchor=\"start\" x=\"201.95\" y=\"-278.2\" font-family=\"Times,serif\" font-size=\"14.00\">8866b5c9...0ab</text>\n",
       "<text text-anchor=\"start\" x=\"191.95\" y=\"-257.2\" font-family=\"Times,serif\" font-size=\"14.00\">classes: City (city)</text>\n",
       "<text text-anchor=\"start\" x=\"201.45\" y=\"-236.2\" font-family=\"Times,serif\" font-size=\"14.00\">name: Freiburg</text>\n",
       "<text text-anchor=\"start\" x=\"129.45\" y=\"-215.2\" font-family=\"Times,serif\" font-size=\"14.00\">coordinates: [47.997791 &#160;7.842609]</text>\n",
       "</g>\n",
       "<!-- https___www.simphony&#45;osp.eu_entity#56191885&#45;e60c&#45;4347&#45;a3aa&#45;f0337b9a4b16 -->\n",
       "<g id=\"node2\" class=\"node\">\n",
       "<title>https___www.simphony&#45;osp.eu_entity#56191885&#45;e60c&#45;4347&#45;a3aa&#45;f0337b9a4b16</title>\n",
       "<ellipse fill=\"none\" stroke=\"black\" cx=\"124.45\" cy=\"-66.47\" rx=\"124.4\" ry=\"66.44\"/>\n",
       "<text text-anchor=\"start\" x=\"67.95\" y=\"-94.27\" font-family=\"Times,serif\" font-size=\"14.00\">56191885...b16</text>\n",
       "<text text-anchor=\"start\" x=\"48.45\" y=\"-73.27\" font-family=\"Times,serif\" font-size=\"14.00\">classes: Citizen (city)</text>\n",
       "<text text-anchor=\"start\" x=\"97.95\" y=\"-52.27\" font-family=\"Times,serif\" font-size=\"14.00\">age: 30</text>\n",
       "<text text-anchor=\"start\" x=\"80.95\" y=\"-31.27\" font-family=\"Times,serif\" font-size=\"14.00\">name: Peter</text>\n",
       "</g>\n",
       "<!-- https___www.simphony&#45;osp.eu_entity#8866b5c9&#45;f8e5&#45;42df&#45;bcb1&#45;43777aba30ab&#45;&gt;https___www.simphony&#45;osp.eu_entity#56191885&#45;e60c&#45;4347&#45;a3aa&#45;f0337b9a4b16 -->\n",
       "<g id=\"edge2\" class=\"edge\">\n",
       "<title>https___www.simphony&#45;osp.eu_entity#8866b5c9&#45;f8e5&#45;42df&#45;bcb1&#45;43777aba30ab&#45;&gt;https___www.simphony&#45;osp.eu_entity#56191885&#45;e60c&#45;4347&#45;a3aa&#45;f0337b9a4b16</title>\n",
       "<path fill=\"none\" stroke=\"black\" d=\"M210.93,-185.77C199.39,-169.98 186.96,-152.97 175.22,-136.91\"/>\n",
       "<polygon fill=\"black\" stroke=\"black\" points=\"177.88,-134.62 169.15,-128.62 172.23,-138.75 177.88,-134.62\"/>\n",
       "<text text-anchor=\"middle\" x=\"267.95\" y=\"-154.74\" font-family=\"Times,serif\" font-size=\"14.00\">has inhabitant (city)</text>\n",
       "</g>\n",
       "<!-- https___www.simphony&#45;osp.eu_entity#cdfc0dbc&#45;675e&#45;4a77&#45;92db&#45;50ff964a37a2 -->\n",
       "<g id=\"node3\" class=\"node\">\n",
       "<title>https___www.simphony&#45;osp.eu_entity#cdfc0dbc&#45;675e&#45;4a77&#45;92db&#45;50ff964a37a2</title>\n",
       "<ellipse fill=\"none\" stroke=\"black\" cx=\"391.45\" cy=\"-66.47\" rx=\"124.4\" ry=\"66.44\"/>\n",
       "<text text-anchor=\"start\" x=\"339.45\" y=\"-94.27\" font-family=\"Times,serif\" font-size=\"14.00\">cdfc0dbc...7a2</text>\n",
       "<text text-anchor=\"start\" x=\"315.45\" y=\"-73.27\" font-family=\"Times,serif\" font-size=\"14.00\">classes: Citizen (city)</text>\n",
       "<text text-anchor=\"start\" x=\"364.95\" y=\"-52.27\" font-family=\"Times,serif\" font-size=\"14.00\">age: 20</text>\n",
       "<text text-anchor=\"start\" x=\"348.95\" y=\"-31.27\" font-family=\"Times,serif\" font-size=\"14.00\">name: Anne</text>\n",
       "</g>\n",
       "<!-- https___www.simphony&#45;osp.eu_entity#8866b5c9&#45;f8e5&#45;42df&#45;bcb1&#45;43777aba30ab&#45;&gt;https___www.simphony&#45;osp.eu_entity#cdfc0dbc&#45;675e&#45;4a77&#45;92db&#45;50ff964a37a2 -->\n",
       "<g id=\"edge1\" class=\"edge\">\n",
       "<title>https___www.simphony&#45;osp.eu_entity#8866b5c9&#45;f8e5&#45;42df&#45;bcb1&#45;43777aba30ab&#45;&gt;https___www.simphony&#45;osp.eu_entity#cdfc0dbc&#45;675e&#45;4a77&#45;92db&#45;50ff964a37a2</title>\n",
       "<path fill=\"none\" stroke=\"black\" d=\"M326.53,-187.84C332.95,-180.77 339.06,-173.4 344.45,-165.94 350.15,-158.05 355.46,-149.36 360.29,-140.51\"/>\n",
       "<polygon fill=\"black\" stroke=\"black\" points=\"363.41,-142.11 364.98,-131.63 357.22,-138.85 363.41,-142.11\"/>\n",
       "<text text-anchor=\"middle\" x=\"425.95\" y=\"-154.74\" font-family=\"Times,serif\" font-size=\"14.00\">has inhabitant (city)</text>\n",
       "</g>\n",
       "</g>\n",
       "</svg>\n"
      ],
      "text/plain": [
       "<simphony_osp.tools.semantic2dot.Semantic2Dot at 0x7f25c18a18b0>"
      ]
     },
     "metadata": {},
     "output_type": "display_data"
    }
   ],
   "source": [
    "from IPython.display import display\n",
    "\n",
    "with SQLite('database.db', True) as sqlite:\n",
    "    display(semantic2dot(sqlite))"
   ]
  },
  {
   "cell_type": "markdown",
   "metadata": {},
   "source": [
    "Wrappers sessions that interact with simulation engines have an additional method, `compute`, that executes the simulation and updates the session to reflect the new status of the individuals involved. Depending on the wrapper, the `compute` method may accept keyword arguments. The [quickstart](../../introduction/quickstart.ipynb#Wrappers) tutorial demonstrates the use of the `compute` method with the [SimLAMMPS](https://github.com/simphony/simphony-osp-simlammps) wrapper, as well as how transfer of ontology individuals between different wrappers, which is done in exactly the same way as [between sessions](../sessions/management.ipynb). "
   ]
  }
 ],
 "metadata": {
  "kernelspec": {
   "display_name": "Python 3",
   "language": "python",
   "name": "python3"
  },
  "language_info": {
   "codemirror_mode": {
    "name": "ipython",
    "version": 3
   },
   "file_extension": ".py",
   "mimetype": "text/x-python",
   "name": "python",
   "nbconvert_exporter": "python",
   "pygments_lexer": "ipython3",
   "version": "3.8.12"
  }
 },
 "nbformat": 4,
 "nbformat_minor": 4
}
