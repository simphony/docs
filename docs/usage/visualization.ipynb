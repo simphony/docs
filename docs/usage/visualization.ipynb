{
 "cells": [
  {
   "cell_type": "markdown",
   "id": "5d751f70-0183-4553-8e48-c62eebdc8f75",
   "metadata": {},
   "source": [
    "# Visualization"
   ]
  },
  {
   "cell_type": "markdown",
   "id": "baea79ad-864a-40cf-83e4-27518aa6b8f7",
   "metadata": {},
   "source": [
    "Text"
   ]
  },
  {
   "cell_type": "markdown",
   "id": "96557eea-a233-4ab0-998c-6b565ad41d2d",
   "metadata": {},
   "source": [
    "## `semantic2dot`"
   ]
  },
  {
   "cell_type": "markdown",
   "id": "eeae9e42-20c0-475c-8788-1903a32e1972",
   "metadata": {},
   "source": [
    "Text"
   ]
  },
  {
   "cell_type": "markdown",
   "id": "daf75786-220c-4794-8ca4-7cbc3f309700",
   "metadata": {},
   "source": [
    "## `pretty_print`"
   ]
  },
  {
   "cell_type": "markdown",
   "id": "0862ceed-430d-4522-bbef-35585ba4149d",
   "metadata": {},
   "source": [
    "Text"
   ]
  }
 ],
 "metadata": {
  "kernelspec": {
   "display_name": "Python 3",
   "language": "python",
   "name": "python3"
  },
  "language_info": {
   "codemirror_mode": {
    "name": "ipython",
    "version": 3
   },
   "file_extension": ".py",
   "mimetype": "text/x-python",
   "name": "python",
   "nbconvert_exporter": "python",
   "pygments_lexer": "ipython3",
   "version": "3.8.12"
  }
 },
 "nbformat": 4,
 "nbformat_minor": 5
}
