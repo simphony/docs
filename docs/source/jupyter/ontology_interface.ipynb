{
 "cells": [
  {
   "cell_type": "markdown",
   "metadata": {},
   "source": [
    "# Tutorial: Ontology Interface\n",
    "\n",
    "<figure style=\"display: table; text-align:center; margin-left: auto; margin-right:auto\">\n",
    "\n",
    "[![Binder](https://mybinder.org/badge_logo.svg)](https://mybinder.org/v2/gh/simphony/docs/master?filepath=docs%2Fsource%2Fjupyter%2Fwrapper_development.ipynb \"Click to run the tutorial yourself!\")\n",
    "    \n",
    "</figure>\n",
    "\n",
    "\n",
    "This tutorial introduces the interface to the installed ontologies. The code presented is based on [this example](#). If you want to create your own ontology please refer to [this guide](../yaml.md)."
   ]
  },
  {
   "cell_type": "markdown",
   "metadata": {},
   "source": [
    "## Background"
   ]
  },
  {
   "cell_type": "markdown",
   "metadata": {},
   "source": [
    "In the previous tutorial we have discussed the CUDS API. CUDS objects correspond to ontology individuals. In this tutorial we present the API of all other entities: ontology classes, relationships and attributes. These are defined in an ontology file in [YAML](../yaml.md) or [OWL](../owl.md) format. With the presented API you can access the entities and navigate within an ontology."
   ]
  },
  {
   "cell_type": "markdown",
   "metadata": {},
   "source": [
    "## Preliminaries"
   ]
  },
  {
   "cell_type": "code",
   "execution_count": 1,
   "metadata": {
    "tags": []
   },
   "outputs": [
    {
     "output_type": "stream",
     "name": "stdout",
     "text": [
      "INFO 2020-12-02 13:53:47,242 [osp.core.ontology.installation]: Will install the following namespaces: ['city']\n",
      "INFO 2020-12-02 13:53:47,288 [osp.core.ontology.yml.yml_parser]: Parsing YAML ontology file /mnt/c/Users/dea/Documents/Projects/simphony/osp-core/osp/core/ontology/docs/city.ontology.yml\n",
      "INFO 2020-12-02 13:53:47,357 [osp.core.ontology.yml.yml_parser]: You can now use `from osp.core.namespaces import city`.\n",
      "INFO 2020-12-02 13:53:47,358 [osp.core.ontology.parser]: Loaded 403 ontology triples in total\n",
      "INFO 2020-12-02 13:53:47,397 [osp.core.ontology.installation]: Installation successful\n"
     ]
    }
   ],
   "source": [
    "# Install the ontology\n",
    "!pico install city"
   ]
  },
  {
   "cell_type": "markdown",
   "metadata": {},
   "source": [
    "## Accessing entities\n",
    "\n",
    "First, we want to acces the entities in the ontology. For that, we need to know the installed ontology namespaces. The namespace is stated at the top of the ontology YAML files:\n",
    "\n",
    "```yaml\n",
    "---\n",
    "version: \"0.0.3\"\n",
    "\n",
    "namespace: \"city\"\n",
    "\n",
    "ontology:\n",
    "   ...\n",
    "```\n",
    "\n",
    "Alternatively you can use pico to see the installed namespaces:"
   ]
  },
  {
   "cell_type": "code",
   "execution_count": 2,
   "metadata": {
    "tags": []
   },
   "outputs": [
    {
     "output_type": "stream",
     "name": "stdout",
     "text": [
      "Packages:\n\t- simlammps_ontology\n\t- city\nNamespaces:\n\t- xml\n\t- rdf\n\t- rdfs\n\t- xsd\n\t- cuba\n\t- ns1\n\t- owl\n\t- simlammps_ontology\n\t- city\n"
     ]
    }
   ],
   "source": [
    "!pico list"
   ]
  },
  {
   "cell_type": "markdown",
   "metadata": {},
   "source": [
    "Knowing the name of the namespace, we can import it in python. With the namespace python object we can access the entities within the namespace:"
   ]
  },
  {
   "cell_type": "code",
   "execution_count": 3,
   "metadata": {
    "tags": []
   },
   "outputs": [
    {
     "output_type": "stream",
     "name": "stdout",
     "text": [
      "\nYou can use the namespace to access its entities\ncity.LivingBeing\n\nYou can also use index notation. For owl ontologies, this queries the entities by rdf.label.It returns a list of all entities with the same label\nTrue\n\nYou can access the namespace of an entity\nFalse\n"
     ]
    }
   ],
   "source": [
    "from osp.core.namespaces import city\n",
    "\n",
    "print(\"\\nYou can use the namespace to access its entities\")\n",
    "print(city.LivingBeing)\n",
    "\n",
    "print(\"\\nYou can also use index notation. \"\n",
    "      \"For owl ontologies, this queries the entities by rdf.label.\"\n",
    "      \"It returns a list of all entities with the same label\")\n",
    "print(city.LivingBeing == city[\"LivingBeing\"][0])\n",
    "\n",
    "print(\"\\nYou can access the namespace of an entity\")\n",
    "print(city is city.LivingBeing.namespace)\n"
   ]
  },
  {
   "cell_type": "markdown",
   "metadata": {},
   "source": [
    "## Accessing super- and subclasses\n",
    "\n",
    "Using the properties `superclasses` and `subclasses` it is easy to navigate the ontology. Direct superclasses and subclasses can also be accessed:"
   ]
  },
  {
   "cell_type": "code",
   "execution_count": 4,
   "metadata": {
    "tags": []
   },
   "outputs": [
    {
     "output_type": "stream",
     "name": "stdout",
     "text": [
      "\nYou can access the superclasses and the subclasses\n{<OntologyClass cuba.Entity>, <OntologyClass city.LivingBeing>}\n{<OntologyClass city.Citizen>, <OntologyClass city.Person>, <OntologyClass city.LivingBeing>}\n\nYou can access the direct superclasses and subclasses\n{<OntologyClass cuba.Entity>}\n{<OntologyClass city.Person>}\n\nYou can access a description of the entities\nA being that lives\n\nYou can test if one entity is a subclass / superclass of another\nTrue\nTrue\n"
     ]
    }
   ],
   "source": [
    "print(\"\\nYou can access the superclasses and the subclasses\")\n",
    "print(city.LivingBeing.superclasses)\n",
    "print(city.LivingBeing.subclasses)\n",
    "\n",
    "print(\"\\nYou can access the direct superclasses and subclasses\")\n",
    "print(city.LivingBeing.direct_superclasses)\n",
    "print(city.LivingBeing.direct_subclasses)\n",
    "\n",
    "print(\"\\nYou can access a description of the entities\")\n",
    "print(city.LivingBeing.description)\n",
    "\n",
    "print(\"\\nYou can test if one entity is a subclass / superclass of another\")\n",
    "print(city.Person.is_subclass_of(city.LivingBeing))\n",
    "print(city.LivingBeing.is_superclass_of(city.Person))"
   ]
  },
  {
   "cell_type": "markdown",
   "metadata": {},
   "source": [
    "## Access entities using a string\n",
    "\n",
    "Sometimes you only have a string refering to an entity. Using the `get_entity` function you can get the corresponding python object easily:"
   ]
  },
  {
   "cell_type": "code",
   "execution_count": 5,
   "metadata": {
    "tags": []
   },
   "outputs": [
    {
     "output_type": "stream",
     "name": "stdout",
     "text": [
      "\nYou can get an entity with a string\ncity.LivingBeing\nTrue\n"
     ]
    }
   ],
   "source": [
    "from osp.core.namespaces import get_entity  # noqa: E402\n",
    "\n",
    "print(\"\\nYou can get an entity with a string\")\n",
    "print(get_entity(\"city.LivingBeing\"))\n",
    "print(get_entity(\"city.LivingBeing\") == city.LivingBeing)"
   ]
  },
  {
   "cell_type": "markdown",
   "metadata": {},
   "source": [
    "## Testing the type of the entities\n",
    "\n",
    "In the OSP-core YAML ontology files three types of entities can be defined: classes, relationships and attributes. Relationships are subclasses of CUBA.RELATIONSHIP and attributes are subclasses of CUBA.ATTRIBUTE. There are different Python objects for the different entity types. You can use both to check which type of entity you are dealing with:"
   ]
  },
  {
   "cell_type": "code",
   "execution_count": 6,
   "metadata": {
    "tags": []
   },
   "outputs": [
    {
     "output_type": "stream",
     "name": "stdout",
     "text": [
      "\nYou can test if an entity is a class\nTrue\nTrue\n\nYou can test if an entity is a relationship\nTrue\nTrue\n\nYou can test if an entity is a attribute\nTrue\nTrue\n"
     ]
    }
   ],
   "source": [
    "from osp.core.namespaces import cuba  # noqa: E402\n",
    "\n",
    "# These are the classes for the ontology entities\n",
    "from osp.core.ontology import (  # noqa: F401, E402\n",
    "    OntologyEntity,\n",
    "    OntologyClass,\n",
    "    OntologyRelationship,\n",
    "    OntologyAttribute\n",
    ")\n",
    "\n",
    "print(\"\\nYou can test if an entity is a class\")\n",
    "print(isinstance(city.LivingBeing, OntologyClass))\n",
    "print(not city.LivingBeing.is_subclass_of(cuba.relationship)\n",
    "      and not city.LivingBeing.is_subclass_of(cuba.attribute))\n",
    "\n",
    "print(\"\\nYou can test if an entity is a relationship\")\n",
    "print(isinstance(city.hasInhabitant, OntologyRelationship))\n",
    "print(city.hasInhabitant.is_subclass_of(cuba.relationship))\n",
    "\n",
    "print(\"\\nYou can test if an entity is a attribute\")\n",
    "print(isinstance(city.name, OntologyAttribute))\n",
    "print(city.name.is_subclass_of(cuba.attribute))\n",
    "\n"
   ]
  },
  {
   "cell_type": "markdown",
   "metadata": {},
   "source": [
    "## Operations specific to ontology classes\n",
    "\n",
    "The different types of entities differ in the operations they offer. For classes, you can access the attributes:"
   ]
  },
  {
   "cell_type": "code",
   "execution_count": 7,
   "metadata": {
    "tags": []
   },
   "outputs": [
    {
     "output_type": "stream",
     "name": "stdout",
     "text": [
      "\nYou can get the attributes of an ontology class and their defaults\n{<OntologyAttribute city.name>: (rdflib.term.Literal('John Smith'), False, None), <OntologyAttribute city.age>: (rdflib.term.Literal('25', datatype=rdflib.term.URIRef('http://www.w3.org/2001/XMLSchema#integer')), False, None)}\n\nYou can get the non-inherited attributes and their defaults\n{}\n{<OntologyAttribute city.name>: (rdflib.term.Literal('John Smith'), False, None), <OntologyAttribute city.age>: (rdflib.term.Literal('25', datatype=rdflib.term.URIRef('http://www.w3.org/2001/XMLSchema#integer')), False, None)}\n"
     ]
    }
   ],
   "source": [
    "print(\"\\nYou can get the attributes of an ontology class and their defaults\")\n",
    "print(city.Citizen.attributes)\n",
    "\n",
    "print(\"\\nYou can get the non-inherited attributes and their defaults\")\n",
    "print(city.Citizen.own_attributes)\n",
    "print(city.LivingBeing.own_attributes)"
   ]
  },
  {
   "cell_type": "markdown",
   "metadata": {},
   "source": [
    "## Operations specific to ontology relationships\n",
    "\n",
    "You can access the inverse, the domain and the range of relationships."
   ]
  },
  {
   "cell_type": "code",
   "execution_count": 8,
   "metadata": {
    "tags": []
   },
   "outputs": [
    {
     "output_type": "stream",
     "name": "stdout",
     "text": [
      "\nYou can get the inverse of a relationship\ncity.INVERSE_OF_hasInhabitant\n"
     ]
    }
   ],
   "source": [
    "print(\"\\nYou can get the inverse of a relationship\")\n",
    "print(city.hasInhabitant.inverse)"
   ]
  },
  {
   "cell_type": "markdown",
   "metadata": {},
   "source": [
    "## Operations specific to attributes\n",
    "\n",
    "You can acces the datatype and the argument name of attributes."
   ]
  },
  {
   "cell_type": "code",
   "execution_count": 9,
   "metadata": {
    "tags": []
   },
   "outputs": [
    {
     "output_type": "stream",
     "name": "stdout",
     "text": [
      "\nYou can get the argument name of an attribute. The argument name is used when instantiating CUDS objects\nage\n\nYou can get the datatype of attributes\nhttp://www.w3.org/2001/XMLSchema#integer\n\nYou can use the attribute to convert values to the datatype of the attribute\n10\n"
     ]
    }
   ],
   "source": [
    "print(\"\\nYou can get the argument name of an attribute. \"\n",
    "      \"The argument name is used when instantiating CUDS objects\")\n",
    "print(city.age.argname)\n",
    "\n",
    "print(\"\\nYou can get the datatype of attributes\")\n",
    "print(city.age.datatype)\n",
    "\n",
    "print(\"\\nYou can use the attribute to convert values \"\n",
    "      \"to the datatype of the attribute\")\n",
    "print(city.age.convert_to_datatype(\"10\"))"
   ]
  },
  {
   "cell_type": "markdown",
   "metadata": {},
   "source": [
    "## CUDS\n",
    "\n",
    "You can use ontology classes to create CUDS objects."
   ]
  },
  {
   "cell_type": "code",
   "execution_count": 11,
   "metadata": {
    "tags": []
   },
   "outputs": [
    {
     "output_type": "stream",
     "name": "stdout",
     "text": "\nYou can instantiate CUDS objects using ontology classes\ncity.Citizen: 1714a778-5943-4611-af3a-e3b0cb32693d\nTake a look at api_example.py for a description of the CUDS API\n\nYou can check if a CUDS object is an instace of a ontology class\nTrue\nTrue\n\nYou can get the ontology class of a CUDS object.\ncity.Citizen\n"
    }
   ],
   "source": [
    "print(\"\\nYou can instantiate CUDS objects using ontology classes\")\n",
    "print(city.Citizen(name=\"Test Person\", age=42))\n",
    "print(\"Take a look at api_example.py for a description of the CUDS API\")\n",
    "\n",
    "print(\"\\nYou can check if a CUDS object is an instace of a ontology class\")\n",
    "print(city.Citizen(name=\"Test Person\", age=42).is_a(city.Citizen))\n",
    "print(city.Citizen(name=\"Test Person\", age=42).is_a(city.LivingBeing))\n",
    "\n",
    "print(\"\\nYou can get the ontology class of a CUDS object.\")\n",
    "print(city.Citizen(name=\"Test Person\", age=42).oclass)\n"
   ]
  },
  {
   "cell_type": "code",
   "execution_count": null,
   "metadata": {},
   "outputs": [],
   "source": []
  }
 ],
 "metadata": {},
 "nbformat": 4,
 "nbformat_minor": 2
}