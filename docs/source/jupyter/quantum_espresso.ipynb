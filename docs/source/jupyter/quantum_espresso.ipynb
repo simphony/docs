{
 "cells": [
  {
   "cell_type": "markdown",
   "metadata": {},
   "source": [
    "# Tutorial: Quantum ESPRESSO wrapper\n",
    "\n",
    "In this tutorial we will go through a simple example of how to use the wrapper for the Quantum Espresso simulation engine.\n",
    "You can find the wrapper [here](https://github.com/simphony/quantum-espresso-wrapper).\n",
    "\n",
    "## Background\n",
    "This is an example of a slightly different design based upon the input-output functionality of certain simulation engines such as Quantum Espresso and Gromacs.\n"
   ]
  },
  {
   "cell_type": "markdown",
   "metadata": {},
   "source": [
    "## Let's get hands-on\n",
    "### Installation\n",
    "To run the local installation of Quantum Espresso, simply run `./install_engine.sh`. This should check for the prerequisites and compile the code for Quantum Espresso for you.\n",
    "\n",
    "If the script runs into an error finding openmpi-bin or something like that, try running `apt-get update` and try again. \n",
    "Once the installation has completed, try running `pw.x` to see if the installation has succeeded. If this does not work, then try adding `export PATH=$PATH:/home/username/qe-6.1/bin/` at the end of `.bashrc` located at your home folder.  \n",
    "  \n",
    "Once you have verified that `pw.x` works, install the ontology via `pico install ontology.simlammps.yml`, and make sure to run `python3 setup.py` located in the root of the quantum espresso wrapper folder.   \n",
    "\n",
    "That should be all needed to use Quantum Espresso!\n",
    "\n",
    "### Simple example\n",
    "\n",
    "This is an adaptation of quantum-espresso-wrapper/examples/Simple.py. As usual, we need to import the necessary components:"
   ]
  },
  {
   "cell_type": "code",
   "execution_count": null,
   "metadata": {},
   "outputs": [],
   "source": [
    "import numpy as np \n",
    "\n",
    "from osp.core.namespaces import QE\n",
    "from osp.core.utils import pretty_print\n",
    "from osp.wrappers.quantumespresso.qe_session import qeSession"
   ]
  },
  {
   "cell_type": "markdown",
   "metadata": {},
   "source": [
    "Next, we create simulation and its K points, which determine at what points it samples the cell"
   ]
  },
  {
   "cell_type": "code",
   "execution_count": null,
   "metadata": {},
   "outputs": [],
   "source": [
    "sim = QE.Simulation()\n",
    "k = QE.K_POINTS(vector = (7, 7, 7), unit = \"\")\n"
   ]
  },
  {
   "cell_type": "markdown",
   "metadata": {},
   "source": [
    "Next, we create a cell, the element Silicon, a pseudopotential, an atom and the cell parameters. Note that the pseudopotential files should ALWAYS be located inside of a folder named `$PSEUDO_DIR` inside of wherever you are running the simulation."
   ]
  },
  {
   "cell_type": "code",
   "execution_count": null,
   "metadata": {},
   "outputs": [],
   "source": [
    "SiCell = QE.Cell()\n",
    "Si = QE.Element(name = \"Si\")\n",
    "SiPseudo = QE.PSEUDOPOTENTIAL(name = \"Si.pbe-n-kjpaw_psl.1.0.0.UPF\")\n",
    "Si1 = QE.Atom()\n",
    "SiParams = QE.CellParams()\n",
    "celldm1 = QE.Celldm1(value = 5.43070, unit = \"au\")"
   ]
  },
  {
   "cell_type": "markdown",
   "metadata": {},
   "source": [
    "Next, we connect these all to each other using the `add` method."
   ]
  },
  {
   "cell_type": "code",
   "execution_count": null,
   "metadata": {},
   "outputs": [],
   "source": [
    "Si.add(SiPseudo, Si1)\n",
    "Si.add(QE.Mass(value = 28.085, unit = \"amu\"))\n",
    "SiCell.add(Si1, SiParams)\n",
    "Si1.add(QE.Position(vector = (0, 0, 0), unit = \"\"))\n",
    "SiCell.add(celldm1)"
   ]
  },
  {
   "cell_type": "markdown",
   "metadata": {},
   "source": [
    "We specify the cell parameters:"
   ]
  },
  {
   "cell_type": "code",
   "execution_count": null,
   "metadata": {},
   "outputs": [],
   "source": [
    "SiParams.add(QE.CellParameterX(vector = (0.5, 0.5, 0), unit = \"\"),\n",
    "             QE.CellParameterY(vector = (0.5, 0, 0.5), unit = \"\"),\n",
    "             QE.CellParameterZ(vector = (0, 0.5, 0.5), unit = \"\"))"
   ]
  },
  {
   "cell_type": "markdown",
   "metadata": {},
   "source": [
    "And then we add everything created so far to the simulation:\n"
   ]
  },
  {
   "cell_type": "code",
   "execution_count": null,
   "metadata": {},
   "outputs": [],
   "source": [
    "sim.add(SiCell)\n",
    "sim.add(Si)\n",
    "sim.add(k)"
   ]
  },
  {
   "cell_type": "markdown",
   "metadata": {},
   "source": [
    "While we're add it, let's add some variables to the simulation which we can check to see if they have been updated. They will not be taken into account when simulating, so they're there for control purposes.\n"
   ]
  },
  {
   "cell_type": "code",
   "execution_count": null,
   "metadata": {},
   "outputs": [],
   "source": [
    "sim.add(QE.Pressure(value = 100, unit = \"kbar\"))\n",
    "sim.add(QE.StressTensor(tensor2 = np.zeros((3, 3)), unit = \"kbar\"))"
   ]
  },
  {
   "cell_type": "markdown",
   "metadata": {},
   "source": [
    "Let's check out what this simulation looks like now with the `pretty_print` function:"
   ]
  },
  {
   "cell_type": "code",
   "execution_count": null,
   "metadata": {},
   "outputs": [],
   "source": [
    "pretty_print(sim)"
   ]
  },
  {
   "cell_type": "markdown",
   "metadata": {},
   "source": [
    "Now, it's time to get the simulation running:"
   ]
  },
  {
   "cell_type": "code",
   "execution_count": null,
   "metadata": {},
   "outputs": [],
   "source": [
    "session = qeSession(root = \"\")\n",
    "quantum_espresso_wrapper = QE.QEWrapper(session = session)\n",
    "quantum_espresso_wrapper.add(sim)\n",
    "print(\"Running calculation...\")\n",
    "\n",
    "quantum_espresso_wrapper.session._run(prefix = \"si\", command_type = \"pw.x\", calculation_type = \"scf\")"
   ]
  },
  {
   "cell_type": "markdown",
   "metadata": {},
   "source": [
    "Now let's check the results of our calculation:"
   ]
  },
  {
   "cell_type": "code",
   "execution_count": null,
   "metadata": {},
   "outputs": [],
   "source": [
    "pretty_print(sim)"
   ]
  },
  {
   "cell_type": "markdown",
   "metadata": {},
   "source": [
    "As you can see, the original part of the cuds tree is still there, with everything mostly the same. The new parts are:\n",
    "\n",
    "- The qe.PwOut cuds object. This is the output file of the simulation, in case there is something that the wrapper does not parse but that you would still like to see.\n",
    "- The qe.TotalEnergy cuds object. This was parsed from the qe.PwOut file itself.\n",
    "- The qe.Force cuds object. This represents the force exerted on the atom(s).\n",
    "\n",
    "The updated parts are:\n",
    "\n",
    "- The qe.Pressure cuds object, having changed in value from 100 kbar to 5723.64 kbar.\n",
    "- The qe.StressTensor cuds object, which is no longer zero."
   ]
  },
  {
   "cell_type": "markdown",
   "metadata": {},
   "source": [
    "Let's see if we can do better and calculate some bands structures:"
   ]
  },
  {
   "cell_type": "code",
   "execution_count": null,
   "metadata": {},
   "outputs": [],
   "source": [
    "quantum_espresso_wrapper.session._run(prefix = \"si\", command_type = \"pw.x\", calculation_type = \"bands\")\n",
    "quantum_espresso_wrapper.session._run(prefix = \"si\", command_type = \"bands.x\", calculation_type = \"\")"
   ]
  },
  {
   "cell_type": "markdown",
   "metadata": {},
   "source": [
    "Although the cuds structure won't have changed much by this, the data is there in the folder.\n",
    "\n",
    "Now let's try to relax this cell. While it isn't a real cell, we can still perform the calculations to relax it to know what the movement of the atoms would be like if it were a real cell (warning, perform vc-relax type calculations with caution. These examples are designed to be lightweight and non-indicative of real-world applications)."
   ]
  },
  {
   "cell_type": "code",
   "execution_count": null,
   "metadata": {},
   "outputs": [],
   "source": [
    "quantum_espresso_wrapper.session._run(simulation = sim, prefix = \"si\", command_type = \"pw.x\", calculation_type = \"relax\", IONS = {'ion_dynamics': \"'bfgs'\"})"
   ]
  },
  {
   "cell_type": "code",
   "execution_count": null,
   "metadata": {},
   "outputs": [],
   "source": [
    "pretty_print(sim)"
   ]
  },
  {
   "cell_type": "markdown",
   "metadata": {},
   "source": [
    "In this example, the position hasn't changed. So let's spice things up a little bit and add another atom, and then relax:"
   ]
  },
  {
   "cell_type": "code",
   "execution_count": null,
   "metadata": {},
   "outputs": [],
   "source": [
    "Si2 = QE.Atom()\n",
    "Si2.add(QE.Position(vector = (0.25, 0.25, 0.26), unit = \"\"))\n",
    "SiCell.add(Si)\n",
    "Si.add(Si2)\n",
    "pretty_print(sim)"
   ]
  },
  {
   "cell_type": "code",
   "execution_count": null,
   "metadata": {},
   "outputs": [],
   "source": [
    "quantum_espresso_wrapper.session._run(simulation = sim, prefix = \"si\", command_type = \"pw.x\", calculation_type = \"relax\", IONS = {'ion_dynamics': \"'bfgs'\"})\n",
    "pretty_print(sim)"
   ]
  }
 ],
 "metadata": {},
 "nbformat": 4,
 "nbformat_minor": 2
}