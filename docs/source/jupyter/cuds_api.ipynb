{
 "cells": [
  {
   "cell_type": "markdown",
   "metadata": {},
   "source": [
    "# Tutorial: CUDS API\n",
    "\n",
    "<figure style=\"display: table; text-align:center; margin-left: auto; margin-right:auto\">\n",
    "\n",
    "[![Binder](https://mybinder.org/badge_logo.svg)](https://mybinder.org/v2/gh/simphony/docs/master?filepath=docs%2Fsource%2Fjupyter%2Fwrapper_development.ipynb \"Click to run the tutorial yourself!\")\n",
    "    \n",
    "</figure>\n",
    "\n",
    "This tutorial introduces the CUDS API. The code given here is based on [this](https://github.com/simphony/osp-core/blob/master/examples/api_example.py) example.\n"
   ]
  },
  {
   "attachments": {
    "1de166aa-9888-4fe1-9794-406012a2ebe4.png": {
     "image/png": "[encoded data removed]"
    }
   },
   "cell_type": "markdown",
   "metadata": {},
   "source": [
    "## Background\n",
    "\n",
    "CUDS stands for Common Universal Data Structure, and it is used to uniformly represent ontology individuals. In the python implementation of OSP-core, it means that every ontology individual is an instance of the `Cuds` class.\n",
    "\n",
    "As every CUDS object is an ontology individual, each CUDS is related to an ontology class via the ontological `is a` relation, and can be connected to other CUDS objects through ontology relationships. In the python implementation of OSP-core, all such ontological classes are instances of the `OntologyClass` class, which is itself a subclass of `OntologyEntity`. The ontology entitites are organized in namespaces.\n",
    "\n",
    "In OSP-core, the ontology relationships can be tagged as active or passive relationships. This is done in the ontology installation file. Such feature lets CUDS objects act as containers, so that content of a CUDS object consists of other CUDS objects. This means that a CUDS is a [recursive data structure](https://en.wikipedia.org/wiki/Recursive_data_type). Such active and passive relationships are directed, meaning that they have a source and a target. If a CUDS is the source of a connection via an active relationship to another CUDS, then the former contains the latter. Conversely, if a passive relationship is used, then the latter is contained in the former. Untagged ontology relationships do not define any containment.\n",
    "\n",
    "**Note:** currently, each time a source CUDS object is connected to another target CUDS object through an active relationship, an inverse passive relationship is also created, connecting the target CUDS (acting as source) and the source CUDS (acting as target).\n",
    "\n",
    "<figure style=\"display: table; text-align:center; margin-left: auto; margin-right:auto\">\n",
    "  <img src=\"attachment:1de166aa-9888-4fe1-9794-406012a2ebe4.png\">\n",
    "  <figcaption style=\"display: table-caption; caption-side: bottom; text-align:center\">Containment in CUDS objects. On the graph view of the left hand side, the arrows depict active relationships, while the segment depicts any other untagged ontology relationship. On the right hand side, a containment view is provided.</figcaption>\n",
    "</figure>\n",
    "\n",
    "The most important functionalities that the CUDS data structure exposes as python methods are the following:\n",
    "\n",
    "- `add`: Connects the current CUDS object to one or more CUDS objects through a specific ontology relationship. If the chosen relationship is not an active relationship, one CUDS will not contain the other nor viceversa.\n",
    "\n",
    "- `remove`: Despite its name, it does NOT delete the CUDS object itself. Instead, it just disconnects the current CUDS object from one or more CUDS objects.\n",
    "\n",
    "- `get`: Returns the CUDS objects connected to the current CUDS object through a specific ontology relationship. \n",
    "\n",
    "- `iter`: Similar to the `get` method, it just returns one CUDS objects at a time instead of all at once (python [iterator](https://python.land/deep-dives/python-iterator)), so that memory can be saved.\n",
    "\n",
    "- `is_a`: Checks if the CUDS object is an instance of the given ontology class.\n",
    "\n",
    "In addition, other important functionalities are exposed as python properties:\n",
    "\n",
    "- `oclass`: The ontology class of the ontology individual represented by the CUDS object. If the individual belongs to multiple classes, only one of them is referenced by the property.\n",
    "\n",
    "- `uid`: A unique ID identifying an ontology individual.\n",
    "\n",
    "- `iri`: The [Internationalized Resource Identifier](https://fusion.cs.uni-jena.de/fusion/blog/2016/11/18/iri-uri-url-urn-and-their-differences/) of the CUDS object. It consists of a CUDS namespace prefix and the unique ID of the CUDS object. This will be further clarified in the tutorial.\n",
    "\n",
    "- **attributes**: The values of the ontology attributes of an individual (also known as [data properties](https://www.w3.org/TR/owl2-syntax/#Data_Properties) in [OWL](https://en.wikipedia.org/wiki/Web_Ontology_Language)) may also be accessed and modified as python properties of the CUDS objects. For example: `cuds_object.name = \"Bob\"`.\n",
    "\n",
    "There are some advanced functionalities NOT covered in this tutorial. Among them, we highlight the `update` method, which is covered in the [wrapper tutorial](multiple-wrappers.ipynb), where it can be seen in action. For a complete list of available methods and properties, check the API reference. That whole set of methods and attributes constitutes the CUDS [API](https://en.wikipedia.org/wiki/API).\n",
    "\n",
    "[//]: # (TODO: Link to API reference.)"
   ]
  },
  {
   "cell_type": "markdown",
   "metadata": {},
   "source": [
    "## Let's get hands on\n",
    "In this tutorial, we will work with the `city` namespace, the example namespace from OSP-core. It consists of concepts from the example [city ontology](https://github.com/simphony/osp-core/blob/master/osp/core/ontology/docs/city.ontology.yml).\n",
    "\n",
    "[//]: # (TODO: simple graphical representation of the city ontology.)"
   ]
  },
  {
   "cell_type": "markdown",
   "metadata": {
    "nteract": {
     "transient": {
      "deleting": false
     }
    }
   },
   "source": [
    "The first step is to install the city ontology. Use the tool pico for this. If you want to know more about ontology installation, check the documentation on the [pico ontology installation tool](https://simphony.readthedocs.io/en/latest/utils.html#pico-installs-cuds-ontologies), [YAML ontology installation files](https://simphony.readthedocs.io/en/latest/yaml.html), and [installing OWL ontologies](https://simphony.readthedocs.io/en/latest/owl.html)."
   ]
  },
  {
   "cell_type": "code",
   "execution_count": 1,
   "metadata": {
    "tags": []
   },
   "outputs": [
    {
     "name": "stdout",
     "output_type": "stream",
     "text": [
      "INFO 2021-04-01 13:40:41,433 [osp.core.ontology.installation]: Will install the following namespaces: ['city']\n",
      "INFO 2021-04-01 13:40:41,448 [osp.core.ontology.yml.yml_parser]: Parsing YAML ontology file /home/jose/.local/lib/python3.9/site-packages/osp/core/ontology/docs/city.ontology.yml\n",
      "INFO 2021-04-01 13:40:41,476 [osp.core.ontology.yml.yml_parser]: You can now use `from osp.core.namespaces import city`.\n",
      "INFO 2021-04-01 13:40:41,476 [osp.core.ontology.parser]: Loaded 202 ontology triples in total\n",
      "INFO 2021-04-01 13:40:41,491 [osp.core.ontology.installation]: Installation successful\n"
     ]
    }
   ],
   "source": [
    "!pico install city"
   ]
  },
  {
   "cell_type": "markdown",
   "metadata": {},
   "source": [
    "Then you can import the `city` namespace."
   ]
  },
  {
   "cell_type": "code",
   "execution_count": 2,
   "metadata": {
    "tags": []
   },
   "outputs": [],
   "source": [
    "# If you just installed the ontology from within this notebook and this line doesn't work, please restart the kernel and run this cell again.\n",
    "from osp.core.namespaces import city"
   ]
  },
  {
   "cell_type": "markdown",
   "metadata": {},
   "source": [
    "You are now creating some CUDS objects that you are going to use to try out the functionalities of the CUDS data structure."
   ]
  },
  {
   "cell_type": "code",
   "execution_count": 3,
   "metadata": {},
   "outputs": [],
   "source": [
    "c = city.City(name=\"Freiburg\", coordinates=[47, 7])  # Ontology individual representing the city of Freiburg.\n",
    "p1 = city.Citizen(name=\"Peter\")  # Ontology indidual representing a specific person, \"Peter\".\n",
    "p2 = city.Citizen(name=\"Anne\")  # Ontology individual representing another specific person, \"Anne\"."
   ]
  },
  {
   "cell_type": "markdown",
   "metadata": {},
   "source": [
    "The names `c, p1, p2` are assigned to the newly created CUDS objects. The keyword arguments `name` and `coordinates` let you directly assign values for such ontology attributes (also known as [data properties](https://www.w3.org/TR/owl2-syntax/#Data_Properties) in [OWL](https://en.wikipedia.org/wiki/Web_Ontology_Language)) to the new CUDS objects. The available ontology attributes for each ontology class depend on the specific class being instantiated. For example, the ontology attribute `name` is available for both the _City_ and the _Citizen_ ontology classes in the sample _City_ ontology. The attribute `coordinates` is available for the _City_ ontology class, but not for the _Citizen_ class."
   ]
  },
  {
   "cell_type": "markdown",
   "metadata": {
    "nteract": {
     "transient": {
      "deleting": false
     }
    }
   },
   "source": [
    "### Functionalities exposed as python properties"
   ]
  },
  {
   "cell_type": "markdown",
   "metadata": {},
   "source": [
    "Each CUDS object has a unique identifier (UID), which can be accessed using the `uid` property:"
   ]
  },
  {
   "cell_type": "code",
   "execution_count": 4,
   "metadata": {
    "tags": []
   },
   "outputs": [
    {
     "name": "stdout",
     "output_type": "stream",
     "text": [
      "uid of c: e0b721ae-6004-4834-80f1-e6e979952d1f\n",
      "uid of p1: 63874785-0de6-43ad-8669-999482501ad1\n",
      "uid of p2: 39c7334f-ef62-4dbc-ae2e-390d7f3ca641\n"
     ]
    }
   ],
   "source": [
    "print(\"uid of c: \" + str(c.uid))\n",
    "print(\"uid of p1: \" + str(p1.uid))\n",
    "print(\"uid of p2: \" + str(p2.uid))"
   ]
  },
  {
   "cell_type": "markdown",
   "metadata": {
    "nteract": {
     "transient": {
      "deleting": false
     }
    }
   },
   "source": [
    "Similarly, each CUDS object has an [IRI](https://fusion.cs.uni-jena.de/fusion/blog/2016/11/18/iri-uri-url-urn-and-their-differences/), which serves to reference it in the [Semantic Web](https://en.wikipedia.org/wiki/Semantic_Web) and improves the compatibility of the CUDS format with the [Resource Description Framework](https://en.wikipedia.org/wiki/Resource_Description_Framework) data model. Note that the IRI of each CUDS object contains its unique identifier."
   ]
  },
  {
   "cell_type": "code",
   "execution_count": 5,
   "metadata": {
    "nteract": {
     "transient": {
      "deleting": false
     }
    },
    "tags": []
   },
   "outputs": [
    {
     "name": "stdout",
     "output_type": "stream",
     "text": [
      "IRI of c: http://www.osp-core.com/cuds#e0b721ae-6004-4834-80f1-e6e979952d1f\n",
      "IRI of p1: http://www.osp-core.com/cuds#63874785-0de6-43ad-8669-999482501ad1\n",
      "IRI of p2: http://www.osp-core.com/cuds#39c7334f-ef62-4dbc-ae2e-390d7f3ca641\n"
     ]
    }
   ],
   "source": [
    "print(\"IRI of c: \" + str(c.iri))\n",
    "print(\"IRI of p1: \" + str(p1.iri))\n",
    "print(\"IRI of p2: \" + str(p2.iri))"
   ]
  },
  {
   "cell_type": "markdown",
   "metadata": {},
   "source": [
    "The class of the ontology individual represented by the CUDS object can be queried as well:"
   ]
  },
  {
   "cell_type": "code",
   "execution_count": 6,
   "metadata": {
    "tags": []
   },
   "outputs": [
    {
     "name": "stdout",
     "output_type": "stream",
     "text": [
      "oclass of c: city.City\n",
      "oclass of p1: city.Citizen\n",
      "oclass of p2: city.Citizen\n"
     ]
    }
   ],
   "source": [
    "print(\"oclass of c: \" + str(c.oclass))\n",
    "print(\"oclass of p1: \" + str(p1.oclass))\n",
    "print(\"oclass of p2: \" + str(p2.oclass))"
   ]
  },
  {
   "cell_type": "markdown",
   "metadata": {},
   "source": [
    "The `uid`, `iri` and `oclass` properties **cannot be modified**."
   ]
  },
  {
   "cell_type": "markdown",
   "metadata": {
    "nteract": {
     "transient": {
      "deleting": false
     }
    }
   },
   "source": [
    "Finally, the values of the ontology attributes of an individual can be easily **accessed and modified** using the dot notation."
   ]
  },
  {
   "cell_type": "code",
   "execution_count": 7,
   "metadata": {
    "nteract": {
     "transient": {
      "deleting": false
     }
    },
    "tags": []
   },
   "outputs": [
    {
     "name": "stdout",
     "output_type": "stream",
     "text": [
      "Name of c: Freiburg. Coordinates of c: [47  7].\n",
      "Name of p1: Peter\n",
      "Name of p2: Anne\n",
      "\n",
      "Change the name of Peter.\n",
      "Name of p1: Bob.\n"
     ]
    }
   ],
   "source": [
    "print(f\"Name of c: {c.name}. Coordinates of c: {c.coordinates}.\" )\n",
    "print(\"Name of p1: \" + str(p1.name))\n",
    "print(\"Name of p2: \" + str(p2.name))\n",
    "\n",
    "print(f\"\\nChange the name of {p1.name}.\")\n",
    "p1.name = \"Bob\"\n",
    "print(f\"Name of p1: {p1.name}.\")"
   ]
  },
  {
   "cell_type": "markdown",
   "metadata": {
    "nteract": {
     "transient": {
      "deleting": false
     }
    }
   },
   "source": [
    "### Functionalities exposed as python methods"
   ]
  },
  {
   "cell_type": "markdown",
   "metadata": {},
   "source": [
    "Now, we may connect the two citizens to our city object:"
   ]
  },
  {
   "cell_type": "code",
   "execution_count": 8,
   "metadata": {},
   "outputs": [
    {
     "data": {
      "text/plain": [
       "<city.Citizen: 39c7334f-ef62-4dbc-ae2e-390d7f3ca641,  CoreSession: @0x7f3a5778ef70>"
      ]
     },
     "execution_count": 8,
     "metadata": {},
     "output_type": "execute_result"
    }
   ],
   "source": [
    "c.add(p1, rel=city.hasInhabitant)\n",
    "c.add(p2, rel=city.hasInhabitant)"
   ]
  },
  {
   "cell_type": "markdown",
   "metadata": {},
   "source": [
    "Note that the relationship type between the city and its two citizens in this case is 'hasInhabitant'. In our context, this means that Anne and Peter are Freiburg inhabitants. Moreover, in the [city ontology](https://github.com/simphony/osp-core/blob/master/osp/core/ontology/docs/city.ontology.yml), this relationship is defined as an active relationship. This means that Anne and Peter are not only connected to Freiburg, but are also contained in the Freiburg CUDS object."
   ]
  },
  {
   "cell_type": "markdown",
   "metadata": {},
   "source": [
    "Next, we would like to iterate over the objects contained in the city object. We do so by using the `iter` function:\n"
   ]
  },
  {
   "cell_type": "code",
   "execution_count": 9,
   "metadata": {
    "tags": []
   },
   "outputs": [
    {
     "name": "stdout",
     "output_type": "stream",
     "text": [
      "uid: 63874785-0de6-43ad-8669-999482501ad1\n",
      "uid: 39c7334f-ef62-4dbc-ae2e-390d7f3ca641\n"
     ]
    }
   ],
   "source": [
    "for el in c.iter():\n",
    "    print(\"uid: \" + str(el.uid))"
   ]
  },
  {
   "cell_type": "markdown",
   "metadata": {},
   "source": [
    "We can `get` a target object from a CUDS object if we have a UID of one of its immediate contained objects. This will not work if the target object is not contained in the CUDS object, but just connected to it."
   ]
  },
  {
   "cell_type": "code",
   "execution_count": 10,
   "metadata": {
    "tags": []
   },
   "outputs": [
    {
     "name": "stdout",
     "output_type": "stream",
     "text": [
      "city.Citizen: 63874785-0de6-43ad-8669-999482501ad1\n",
      "None\n"
     ]
    }
   ],
   "source": [
    "print(c.get(p1.uid))  # `p1`is contained in `c` because they are connected through an active relationship.\n",
    "print(p1.get(c.uid))  # `c` is connected to `p1`, but it is NOT contained in `p1`."
   ]
  },
  {
   "cell_type": "markdown",
   "metadata": {},
   "source": [
    "We can also filter the contained objects by type: "
   ]
  },
  {
   "cell_type": "code",
   "execution_count": 11,
   "metadata": {
    "tags": []
   },
   "outputs": [
    {
     "name": "stdout",
     "output_type": "stream",
     "text": [
      "[<city.Citizen: 63874785-0de6-43ad-8669-999482501ad1,  CoreSession: @0x7f3a5778ef70>, <city.Citizen: 39c7334f-ef62-4dbc-ae2e-390d7f3ca641,  CoreSession: @0x7f3a5778ef70>]\n"
     ]
    }
   ],
   "source": [
    "print(c.get(oclass=city.Citizen))"
   ]
  },
  {
   "cell_type": "markdown",
   "metadata": {},
   "source": [
    "We remove objects using the `remove()` function. Despite its name, this just disconnects the target object from the CUDS, but does NOT delete the target object from the memory."
   ]
  },
  {
   "cell_type": "code",
   "execution_count": 12,
   "metadata": {},
   "outputs": [
    {
     "name": "stdout",
     "output_type": "stream",
     "text": [
      "city.Citizen: 63874785-0de6-43ad-8669-999482501ad1\n",
      "None\n"
     ]
    }
   ],
   "source": [
    "c.remove(p1)\n",
    "# c.remove(p1.uid) also works!\n",
    "print(p1)  # `p1` still exists,\n",
    "print(c.get(p1.uid))  # but is no longer connected neither contained in `c`."
   ]
  },
  {
   "cell_type": "markdown",
   "metadata": {},
   "source": [
    "Let's close this tutorial by adding some neighborhoods in a loop,"
   ]
  },
  {
   "cell_type": "code",
   "execution_count": 13,
   "metadata": {},
   "outputs": [],
   "source": [
    "for i in range(6):\n",
    "    c.add(city.Neighborhood(name=\"neighborhood %s\" % i))"
   ]
  },
  {
   "cell_type": "markdown",
   "metadata": {
    "nteract": {
     "transient": {
      "deleting": false
     }
    }
   },
   "source": [
    "and then verifying that they are indeed neighborhoods, just to also try the `is_a` method.\n",
    "\n"
   ]
  },
  {
   "cell_type": "code",
   "execution_count": 14,
   "metadata": {
    "nteract": {
     "transient": {
      "deleting": false
     }
    }
   },
   "outputs": [
    {
     "data": {
      "text/plain": [
       "True"
      ]
     },
     "execution_count": 14,
     "metadata": {},
     "output_type": "execute_result"
    }
   ],
   "source": [
    "all(n.is_a(city.Neighborhood) for n in c.get(oclass=city.Neighborhood))"
   ]
  },
  {
   "cell_type": "markdown",
   "metadata": {
    "nteract": {
     "transient": {
      "deleting": false
     }
    }
   },
   "source": [
    "The existing ontology individuals and the relationships among them have been depicted below, using the utility `pretty_print` (see the [Utilities section](https://simphony.readthedocs.io/en/latest/utils.html?highlight=pretty_print)). Note that some attributes that were not specified were set automatically to the default values specified in the ontology."
   ]
  },
  {
   "cell_type": "code",
   "execution_count": 15,
   "metadata": {
    "nteract": {
     "transient": {
      "deleting": false
     }
    },
    "tags": []
   },
   "outputs": [
    {
     "name": "stdout",
     "output_type": "stream",
     "text": [
      "- Cuds object named <Freiburg>:\n",
      "  uuid: e0b721ae-6004-4834-80f1-e6e979952d1f\n",
      "  type: city.City\n",
      "  superclasses: city.City, city.GeographicalPlace, city.PopulatedPlace, cuba.Entity\n",
      "  values: coordinates: [47  7]\n",
      "  description: \n",
      "    To Be Determined\n",
      "\n",
      "   |_Relationship city.hasInhabitant:\n",
      "   | -  city.Citizen cuds object named <Anne>:\n",
      "   |    uuid: 39c7334f-ef62-4dbc-ae2e-390d7f3ca641\n",
      "   |    age: 25\n",
      "   |_Relationship city.hasPart:\n",
      "     -  city.Neighborhood cuds object named <neighborhood 0>:\n",
      "     .  uuid: 79eec4f9-55c5-464d-b6c3-dc4382e55476\n",
      "     .  coordinates: [0 0]\n",
      "     -  city.Neighborhood cuds object named <neighborhood 1>:\n",
      "     .  uuid: 50fa8dac-2f5f-4b2c-ab8a-24f7f1b41f2c\n",
      "     .  coordinates: [0 0]\n",
      "     -  city.Neighborhood cuds object named <neighborhood 2>:\n",
      "     .  uuid: f6c20bfa-c29b-46bb-a5f5-8bc88b3e3621\n",
      "     .  coordinates: [0 0]\n",
      "     -  city.Neighborhood cuds object named <neighborhood 3>:\n",
      "     .  uuid: e161ea1c-40d8-4556-93ad-dfd4d178d669\n",
      "     .  coordinates: [0 0]\n",
      "     -  city.Neighborhood cuds object named <neighborhood 4>:\n",
      "     .  uuid: a3af8db2-28cd-457b-84ed-b420be5212c2\n",
      "     .  coordinates: [0 0]\n",
      "     -  city.Neighborhood cuds object named <neighborhood 5>:\n",
      "        uuid: 8de47383-4416-44be-99dc-e5903b1d14dd\n",
      "        coordinates: [0 0]\n"
     ]
    }
   ],
   "source": [
    "from osp.core.utils import pretty_print\n",
    "pretty_print(c)"
   ]
  }
 ],
 "metadata": {},
 "nbformat": 4,
 "nbformat_minor": 4
}