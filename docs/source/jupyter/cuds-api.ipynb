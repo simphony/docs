{
  "cells": [
    {
      "cell_type": "markdown",
      "source": [
        "# Tutorial: CUDS API\n",
        "\n",
        "This tutorial introduces the CUDS API. The code given here is based on [this](https://github.com/simphony/osp-core/blob/master/examples/api_example.py) example."
      ],
      "metadata": {}
    },
    {
      "cell_type": "markdown",
      "source": [
        "## Background\n",
        "\n",
        "CUDS stands for Common Universal Data Structure, and it is used to uniformly represent ontology individuals. In the python implementation of OSP-core, it means that every ontology individual is an instance of the `Cuds` class.\n",
        "\n",
        "As every CUDS object is an ontology individual, each CUDS is related to an ontology class via the ontological `is a` relation, and can be connected to other CUDS objects through ontology relationships. In the python implementation of OSP-core, all such ontological concepts are instances of the `OntologyClass` class, which is itself a subclass of `OntologyEntity`. The ontology entitites are organized in namespaces.\n",
        "\n",
        "In OSP-core, the ontology relationships can be tagged as active or passive relationships. This is done in the ontology installation file. Such feature lets CUDS objects act as containers, so that content of a CUDS object consists of other CUDS objects. This means that a CUDS is a [recursive data structure](https://en.wikipedia.org/wiki/Recursive_data_type). If a CUDS is connected via an active relationship to another CUDS, then the former contains the latter, while when a CUDS is connected via a passive relationship to another CUDS, the latter is contained in the former. Untagged ontology relationships do not define any containment.\n",
        "\n",
        "[//]: # (TODO: Image of this containment idea, necessary to express the idea of the directionality of the relationships as well.)\n",
        "\n",
        "The most important functionalities that the CUDS data structure exposes as python methods are the following:\n",
        "- **add**: Connects the current CUDS object to one or more CUDS objects through a specific ontology relationship.\n",
        "- **remove**: Despite its name, it does NOT delete the CUDS object itself. Instead, it just disconnects the current CUDS object from one or more CUDS objects.\n",
        "- **get**: Returns the CUDS objects connected to the current CUDS object through a specific ontology relationship. \n",
        "- **iter**: Similar to the `get` method, it just returns one CUDS objects at a time instead of all at once (python iterator), so that memory can be saved.\n",
        "- **is_a**: Checks if the CUDS object is an instance of the given oclass.\n",
        "\n",
        "In addition, other important functionalities are exposed as python properties:\n",
        "- **oclass**: The ontology class of the ontology individual represented by the CUDS object. If the individual belongs to multiple classes, only one of them is referenced by the property.\n",
        "- **uid**: A unique ID identifying an ontology individual.\n",
        "- **iri**: The [Internationalized Resource Identifier](https://fusion.cs.uni-jena.de/fusion/blog/2016/11/18/iri-uri-url-urn-and-their-differences/) of the CUDS object. It consists of a CUDS namespace prefix and the unique ID of the CUDS object. This will be clarified in the tutorial.\n",
        "- **attributes**: The values of the ontology attributes of an individual (also known as [data properties](https://www.w3.org/TR/owl2-syntax/#Data_Properties) in [OWL](https://en.wikipedia.org/wiki/Web_Ontology_Language)) may also be accessed as python properties of the CUDS objects. For example: `cuds_object.name`.\n",
        "\n",
        "There are some advanced functionalities NOT covered in this tutorial. Among them, we highlight the **update** method, which is covered in the [wrapper tutorial](multiple-wrappers.ipynb), where it can be seen in action. For a complete list of available methods and properties, check the API reference. That whole set of methods and attributes constitutes the CUDS [API](https://en.wikipedia.org/wiki/API).\n",
        "\n",
        "[//]: # (TODO: Link to API reference.)"
      ],
      "metadata": {}
    },
    {
      "cell_type": "markdown",
      "source": [
        "## Let's get hands on\n",
        "In this tutorial, we will work with the `city` namespace, the example namespace from OSP-core. It consists of concepts from the example [city ontology](https://github.com/simphony/osp-core/blob/master/osp/core/ontology/docs/city.ontology.yml). There is [another tutorial](#) on the ontology YAML installation file. However, it is not important for the purposes of this tutorial.\n",
        "\n",
        "[//]: # (TODO: simple graphical representation of the city ontology.)"
      ],
      "metadata": {}
    },
    {
      "cell_type": "markdown",
      "source": [
        "The first step is to install the city ontology. Use the tool pico for this:"
      ],
      "metadata": {
        "nteract": {
          "transient": {
            "deleting": false
          }
        }
      }
    },
    {
      "cell_type": "code",
      "source": [
        "!pico install city"
      ],
      "outputs": [
        {
          "output_type": "stream",
          "name": "stdout",
          "text": [
            "INFO 2021-03-30 12:03:17,518 [osp.core.ontology.installation]: Will install the following namespaces: ['city']\n",
            "INFO 2021-03-30 12:03:17,536 [osp.core.ontology.yml.yml_parser]: Parsing YAML ontology file /home/jose/.local/lib/python3.9/site-packages/osp/core/ontology/docs/city.ontology.yml\n",
            "INFO 2021-03-30 12:03:17,569 [osp.core.ontology.yml.yml_parser]: You can now use `from osp.core.namespaces import city`.\n",
            "INFO 2021-03-30 12:03:17,569 [osp.core.ontology.parser]: Loaded 202 ontology triples in total\n",
            "INFO 2021-03-30 12:03:17,589 [osp.core.ontology.installation]: Installation successful\n"
          ]
        }
      ],
      "execution_count": 1,
      "metadata": {
        "tags": [],
        "execution": {
          "iopub.status.busy": "2021-03-30T10:03:17.190Z",
          "iopub.execute_input": "2021-03-30T10:03:17.200Z",
          "iopub.status.idle": "2021-03-30T10:03:17.752Z",
          "shell.execute_reply": "2021-03-30T10:03:17.816Z"
        }
      }
    },
    {
      "cell_type": "markdown",
      "source": [
        "Then you can import the `city` namespace."
      ],
      "metadata": {}
    },
    {
      "cell_type": "code",
      "source": [
        "# If you just installed the ontology from within this notebook and this line doesn't work, please restart the kernel and run this cell again.\n",
        "from osp.core.namespaces import city"
      ],
      "outputs": [],
      "execution_count": 2,
      "metadata": {
        "tags": [],
        "execution": {
          "iopub.status.busy": "2021-03-30T10:03:17.779Z",
          "iopub.execute_input": "2021-03-30T10:03:17.796Z",
          "shell.execute_reply": "2021-03-30T10:03:18.101Z",
          "iopub.status.idle": "2021-03-30T10:03:18.139Z"
        }
      }
    },
    {
      "cell_type": "markdown",
      "source": [
        "You are now creating some CUDS objects that you are going to use to try out the functionalities of the CUDS data structure."
      ],
      "metadata": {}
    },
    {
      "cell_type": "code",
      "source": [
        "c = city.City(name=\"Freiburg\", coordinates=[47, 7])  # Ontology individual representing the city of Freiburg.\n",
        "p1 = city.Citizen(name=\"Peter\")  # Ontology indidual representing a specific person, \"Peter\".\n",
        "p2 = city.Citizen(name=\"Anne\")  # Ontology individual representing another specific person, \"Anne\"."
      ],
      "outputs": [],
      "execution_count": 3,
      "metadata": {
        "execution": {
          "iopub.status.busy": "2021-03-30T10:03:18.161Z",
          "iopub.execute_input": "2021-03-30T10:03:18.171Z",
          "shell.execute_reply": "2021-03-30T10:03:18.782Z",
          "iopub.status.idle": "2021-03-30T10:03:18.189Z"
        }
      }
    },
    {
      "cell_type": "markdown",
      "source": [
        "The names `c, p1, p2` are assigned to the newly created CUDS objects. The keyword arguments `name` and `coordinates` let you directly assign values for such ontology attributes (also known as [data properties](https://www.w3.org/TR/owl2-syntax/#Data_Properties) in [OWL](https://en.wikipedia.org/wiki/Web_Ontology_Language)) to the new CUDS objects. The available ontology attributes for each ontology class depend on the specific class being instantiated. For example, the ontology attribute `name` is available for both the _City_ and the _Citizen_ ontology classes in the sample _City_ ontology. The attribute `coordinates` is available for the _City_ ontology class, but not for the _Citizen_ class."
      ],
      "metadata": {}
    },
    {
      "cell_type": "markdown",
      "source": [
        "### Functionalities exposed as python properties"
      ],
      "metadata": {
        "nteract": {
          "transient": {
            "deleting": false
          }
        }
      }
    },
    {
      "cell_type": "markdown",
      "source": [
        "Each CUDS object has a unique identifier (UID), which can be accessed using the `uid` property:"
      ],
      "metadata": {}
    },
    {
      "cell_type": "code",
      "source": [
        "print(\"uid of c: \" + str(c.uid))\n",
        "print(\"uid of p1: \" + str(p1.uid))\n",
        "print(\"uid of p2: \" + str(p2.uid))"
      ],
      "outputs": [
        {
          "output_type": "stream",
          "name": "stdout",
          "text": [
            "uid of c: bc274beb-04ab-488f-aed0-550b6a433256\n",
            "uid of p1: db7873e2-668c-424c-b7d8-b388968a060a\n",
            "uid of p2: 55149899-c4b5-4858-96ea-c78921cca90e\n"
          ]
        }
      ],
      "execution_count": 4,
      "metadata": {
        "tags": [],
        "execution": {
          "iopub.status.busy": "2021-03-30T10:03:18.214Z",
          "iopub.execute_input": "2021-03-30T10:03:18.225Z",
          "iopub.status.idle": "2021-03-30T10:03:18.249Z",
          "shell.execute_reply": "2021-03-30T10:03:18.791Z"
        }
      }
    },
    {
      "cell_type": "markdown",
      "source": [
        "Similarly, each CUDS object has [IRI](https://fusion.cs.uni-jena.de/fusion/blog/2016/11/18/iri-uri-url-urn-and-their-differences/), which serves to reference it in the [Semantic Web](https://en.wikipedia.org/wiki/Semantic_Web) and improves the compatibility of the CUDS format with the [Resource Description Framework](https://en.wikipedia.org/wiki/Resource_Description_Framework) data model. Note that the IRI of each CUDS object contains its unique identifier."
      ],
      "metadata": {
        "nteract": {
          "transient": {
            "deleting": false
          }
        }
      }
    },
    {
      "cell_type": "code",
      "source": [
        "print(\"IRI of c: \" + str(c.iri))\n",
        "print(\"IRI of p1: \" + str(p1.iri))\n",
        "print(\"IRI of p2: \" + str(p2.iri))"
      ],
      "outputs": [
        {
          "output_type": "stream",
          "name": "stdout",
          "text": [
            "IRI of c: http://www.osp-core.com/cuds#bc274beb-04ab-488f-aed0-550b6a433256\n",
            "IRI of p1: http://www.osp-core.com/cuds#db7873e2-668c-424c-b7d8-b388968a060a\n",
            "IRI of p2: http://www.osp-core.com/cuds#55149899-c4b5-4858-96ea-c78921cca90e\n"
          ]
        }
      ],
      "execution_count": 5,
      "metadata": {
        "collapsed": true,
        "jupyter": {
          "source_hidden": false,
          "outputs_hidden": false
        },
        "nteract": {
          "transient": {
            "deleting": false
          }
        },
        "execution": {
          "iopub.status.busy": "2021-03-30T10:03:18.265Z",
          "iopub.execute_input": "2021-03-30T10:03:18.275Z",
          "iopub.status.idle": "2021-03-30T10:03:18.301Z",
          "shell.execute_reply": "2021-03-30T10:03:18.797Z"
        }
      }
    },
    {
      "cell_type": "markdown",
      "source": [
        "The class of the ontology individual repredsented by the CUDS object can be queried as well:"
      ],
      "metadata": {}
    },
    {
      "cell_type": "code",
      "source": [
        "print(\"oclass of c: \" + str(c.oclass))\n",
        "print(\"oclass of p1: \" + str(p1.oclass))\n",
        "print(\"oclass of p2: \" + str(p2.oclass))"
      ],
      "outputs": [
        {
          "output_type": "stream",
          "name": "stdout",
          "text": [
            "oclass of c: city.City\n",
            "oclass of p1: city.Citizen\n",
            "oclass of p2: city.Citizen\n"
          ]
        }
      ],
      "execution_count": 6,
      "metadata": {
        "tags": [],
        "execution": {
          "iopub.status.busy": "2021-03-30T10:03:18.316Z",
          "iopub.execute_input": "2021-03-30T10:03:18.327Z",
          "iopub.status.idle": "2021-03-30T10:03:18.349Z",
          "shell.execute_reply": "2021-03-30T10:03:18.802Z"
        }
      }
    },
    {
      "cell_type": "markdown",
      "source": [
        "Finally, the values of the ontology attributes of an individual can be easily accessed using the dot notation."
      ],
      "metadata": {
        "nteract": {
          "transient": {
            "deleting": false
          }
        }
      }
    },
    {
      "cell_type": "code",
      "source": [
        "print(f\"Name of c: {c.name}. Coordinates of c: {c.coordinates}.\" )\n",
        "print(\"Name of p1: \" + str(p1.name))\n",
        "print(\"Name of p2: \" + str(p2.name))"
      ],
      "outputs": [
        {
          "output_type": "stream",
          "name": "stdout",
          "text": [
            "Name of c: Freiburg. Coordinates of c: [47  7].\n",
            "Name of p1: Peter\n",
            "Name of p2: Anne\n"
          ]
        }
      ],
      "execution_count": 7,
      "metadata": {
        "collapsed": true,
        "jupyter": {
          "source_hidden": false,
          "outputs_hidden": false
        },
        "nteract": {
          "transient": {
            "deleting": false
          }
        },
        "execution": {
          "iopub.status.busy": "2021-03-30T10:03:18.364Z",
          "iopub.execute_input": "2021-03-30T10:03:18.374Z",
          "iopub.status.idle": "2021-03-30T10:03:18.397Z",
          "shell.execute_reply": "2021-03-30T10:03:18.807Z"
        }
      }
    },
    {
      "cell_type": "markdown",
      "source": [
        "### Functionalities exposed as python methods"
      ],
      "metadata": {
        "nteract": {
          "transient": {
            "deleting": false
          }
        }
      }
    },
    {
      "cell_type": "markdown",
      "source": [
        "Now, we may connect the two citizens to our city object:"
      ],
      "metadata": {}
    },
    {
      "cell_type": "code",
      "source": [
        "c.add(p1, rel=city.hasInhabitant)\n",
        "c.add(p2, rel=city.hasInhabitant)"
      ],
      "outputs": [
        {
          "output_type": "execute_result",
          "execution_count": 8,
          "data": {
            "text/plain": "<city.Citizen: 55149899-c4b5-4858-96ea-c78921cca90e,  CoreSession: @0x7f1f08091400>"
          },
          "metadata": {}
        }
      ],
      "execution_count": 8,
      "metadata": {
        "execution": {
          "iopub.status.busy": "2021-03-30T10:03:18.415Z",
          "iopub.execute_input": "2021-03-30T10:03:18.425Z",
          "iopub.status.idle": "2021-03-30T10:03:18.451Z",
          "shell.execute_reply": "2021-03-30T10:03:18.812Z"
        }
      }
    },
    {
      "cell_type": "markdown",
      "source": [
        "Note that the relationship type between the city and its two citizens in this case is 'HAS_INHABITANT'. In our context, this means that Anne and Peter are Freiburg inhabitants. Moreover, in the [city ontology](https://github.com/simphony/osp-core/blob/master/osp/core/ontology/docs/city.ontology.yml), this relationship is defined as an active relationship. This means that Anne and Peter are not only connected to Freiburg, but are also contained in the Freiburg CUDS object."
      ],
      "metadata": {}
    },
    {
      "cell_type": "markdown",
      "source": [
        "Next, we would like to iterate over the objects contained in the city object. We do so by using the `iter` function:\n"
      ],
      "metadata": {}
    },
    {
      "cell_type": "code",
      "source": [
        "for el in c.iter():\n",
        "    print(\"uid: \" + str(el.uid))"
      ],
      "outputs": [
        {
          "output_type": "stream",
          "name": "stdout",
          "text": [
            "uid: db7873e2-668c-424c-b7d8-b388968a060a\n",
            "uid: 55149899-c4b5-4858-96ea-c78921cca90e\n"
          ]
        }
      ],
      "execution_count": 9,
      "metadata": {
        "tags": [],
        "execution": {
          "iopub.status.busy": "2021-03-30T10:03:18.467Z",
          "iopub.execute_input": "2021-03-30T10:03:18.476Z",
          "iopub.status.idle": "2021-03-30T10:03:18.495Z",
          "shell.execute_reply": "2021-03-30T10:03:18.817Z"
        }
      }
    },
    {
      "cell_type": "markdown",
      "source": [
        "We can `get` a target object from a CUDS object if we have a UID of one of its immediate contained objects. This will not work if the target object is not contained in the CUDS object, but just connected to it."
      ],
      "metadata": {}
    },
    {
      "cell_type": "code",
      "source": [
        "print(c.get(p1.uid))  # `p1`is contained in `c` because they are connected through an active relationship.\n",
        "print(p1.get(c.uid))  # `c` is NOT contained in `p1`"
      ],
      "outputs": [
        {
          "output_type": "stream",
          "name": "stdout",
          "text": [
            "city.Citizen: db7873e2-668c-424c-b7d8-b388968a060a\n",
            "None\n"
          ]
        }
      ],
      "execution_count": 10,
      "metadata": {
        "tags": [],
        "execution": {
          "iopub.status.busy": "2021-03-30T10:03:18.509Z",
          "iopub.execute_input": "2021-03-30T10:03:18.518Z",
          "iopub.status.idle": "2021-03-30T10:03:18.537Z",
          "shell.execute_reply": "2021-03-30T10:03:18.822Z"
        }
      }
    },
    {
      "cell_type": "markdown",
      "source": [
        "We can also filter the contained objects by type: "
      ],
      "metadata": {}
    },
    {
      "cell_type": "code",
      "source": [
        "print(c.get(oclass=city.Citizen))"
      ],
      "outputs": [
        {
          "output_type": "stream",
          "name": "stdout",
          "text": [
            "[<city.Citizen: db7873e2-668c-424c-b7d8-b388968a060a,  CoreSession: @0x7f1f08091400>, <city.Citizen: 55149899-c4b5-4858-96ea-c78921cca90e,  CoreSession: @0x7f1f08091400>]\n"
          ]
        }
      ],
      "execution_count": 11,
      "metadata": {
        "tags": [],
        "execution": {
          "iopub.status.busy": "2021-03-30T10:03:18.552Z",
          "iopub.execute_input": "2021-03-30T10:03:18.562Z",
          "iopub.status.idle": "2021-03-30T10:03:18.583Z",
          "shell.execute_reply": "2021-03-30T10:03:18.827Z"
        }
      }
    },
    {
      "cell_type": "markdown",
      "source": [
        "We remove objects using the `remove()` function. Despite its name, this just disconnects the target object from the CUDS, but does NOT delete the target object from the memory."
      ],
      "metadata": {}
    },
    {
      "cell_type": "code",
      "source": [
        "c.remove(p1)\n",
        "# c.remove(p1.uid) also works!\n",
        "print(p1)  # `p1`still exists,\n",
        "print(c.get(p1.uid))  # but is no longer connected neither contained in `c`."
      ],
      "outputs": [
        {
          "output_type": "stream",
          "name": "stdout",
          "text": [
            "city.Citizen: db7873e2-668c-424c-b7d8-b388968a060a\n",
            "None\n"
          ]
        }
      ],
      "execution_count": 12,
      "metadata": {
        "execution": {
          "iopub.status.busy": "2021-03-30T10:03:18.597Z",
          "iopub.execute_input": "2021-03-30T10:03:18.605Z",
          "iopub.status.idle": "2021-03-30T10:03:18.627Z",
          "shell.execute_reply": "2021-03-30T10:03:18.832Z"
        }
      }
    },
    {
      "cell_type": "markdown",
      "source": [
        "Let's close this tutorial by adding some neighborhoods in a loop,"
      ],
      "metadata": {}
    },
    {
      "cell_type": "code",
      "source": [
        "for i in range(6):\n",
        "    c.add(city.Neighborhood(name=\"neighborhood %s\" % i))"
      ],
      "outputs": [],
      "execution_count": 13,
      "metadata": {
        "execution": {
          "iopub.status.busy": "2021-03-30T10:03:18.640Z",
          "iopub.execute_input": "2021-03-30T10:03:18.650Z",
          "iopub.status.idle": "2021-03-30T10:03:18.666Z",
          "shell.execute_reply": "2021-03-30T10:03:18.837Z"
        }
      }
    },
    {
      "cell_type": "markdown",
      "source": [
        "and then verifying that they are indeed neighborhoods, just to also try the `is_a` method.\n",
        "\n"
      ],
      "metadata": {
        "nteract": {
          "transient": {
            "deleting": false
          }
        }
      }
    },
    {
      "cell_type": "code",
      "source": [
        "all(n.is_a(city.Neighborhood) for n in c.get(oclass=city.Neighborhood))"
      ],
      "outputs": [
        {
          "output_type": "execute_result",
          "execution_count": 14,
          "data": {
            "text/plain": "True"
          },
          "metadata": {}
        }
      ],
      "execution_count": 14,
      "metadata": {
        "collapsed": true,
        "jupyter": {
          "source_hidden": false,
          "outputs_hidden": false
        },
        "nteract": {
          "transient": {
            "deleting": false
          }
        },
        "execution": {
          "iopub.status.busy": "2021-03-30T10:03:18.680Z",
          "iopub.execute_input": "2021-03-30T10:03:18.689Z",
          "iopub.status.idle": "2021-03-30T10:03:18.711Z",
          "shell.execute_reply": "2021-03-30T10:03:18.844Z"
        }
      }
    },
    {
      "cell_type": "markdown",
      "source": [
        "The existing ontology individuals and the relationships among them at the end of the tutorial are depicted below. Note that some attributes that were not specified were set automatically to the default values specified in the ontology."
      ],
      "metadata": {
        "nteract": {
          "transient": {
            "deleting": false
          }
        }
      }
    },
    {
      "cell_type": "code",
      "source": [
        "from osp.core.utils import pretty_print  # This is an utility, see the Utilities section https://simphony.readthedocs.io/en/latest/utils.html?highlight=pretty_print.\n",
        "pretty_print(c)"
      ],
      "outputs": [
        {
          "output_type": "stream",
          "name": "stdout",
          "text": [
            "- Cuds object named <Freiburg>:\n",
            "  uuid: bc274beb-04ab-488f-aed0-550b6a433256\n",
            "  type: city.City\n",
            "  superclasses: city.City, city.GeographicalPlace, city.PopulatedPlace, cuba.Entity\n",
            "  values: coordinates: [47  7]\n",
            "  description: \n",
            "    To Be Determined\n",
            "\n",
            "   |_Relationship city.hasInhabitant:\n",
            "   | -  city.Citizen cuds object named <Anne>:\n",
            "   |    uuid: 55149899-c4b5-4858-96ea-c78921cca90e\n",
            "   |    age: 25\n",
            "   |_Relationship city.hasPart:\n",
            "     -  city.Neighborhood cuds object named <neighborhood 0>:\n",
            "     .  uuid: 7118ec24-fd85-4a40-8158-07117945cc46\n",
            "     .  coordinates: [0 0]\n",
            "     -  city.Neighborhood cuds object named <neighborhood 1>:\n",
            "     .  uuid: 3c195b61-d7c1-4b5f-8d3b-4fcc2b4c5964\n",
            "     .  coordinates: [0 0]\n",
            "     -  city.Neighborhood cuds object named <neighborhood 2>:\n",
            "     .  uuid: fe59fcf6-55b0-4744-81c5-96330a9e2fa5\n",
            "     .  coordinates: [0 0]\n",
            "     -  city.Neighborhood cuds object named <neighborhood 3>:\n",
            "     .  uuid: e9b2c368-370c-4ff9-8256-7e5d5ce941fe\n",
            "     .  coordinates: [0 0]\n",
            "     -  city.Neighborhood cuds object named <neighborhood 4>:\n",
            "     .  uuid: ced17893-7fb0-4d1f-a4e4-8fd322dbb1f0\n",
            "     .  coordinates: [0 0]\n",
            "     -  city.Neighborhood cuds object named <neighborhood 5>:\n",
            "        uuid: d6d98ff6-a76d-4e61-8d48-c29428d54395\n",
            "        coordinates: [0 0]\n"
          ]
        }
      ],
      "execution_count": 15,
      "metadata": {
        "collapsed": true,
        "jupyter": {
          "source_hidden": false,
          "outputs_hidden": false
        },
        "nteract": {
          "transient": {
            "deleting": false
          }
        },
        "execution": {
          "iopub.status.busy": "2021-03-30T10:03:18.726Z",
          "iopub.execute_input": "2021-03-30T10:03:18.735Z",
          "iopub.status.idle": "2021-03-30T10:03:18.756Z",
          "shell.execute_reply": "2021-03-30T10:03:18.849Z"
        }
      }
    }
  ],
  "metadata": {
    "language_info": {
      "name": "python",
      "version": "3.9.2",
      "mimetype": "text/x-python",
      "codemirror_mode": {
        "name": "ipython",
        "version": 3
      },
      "pygments_lexer": "ipython3",
      "nbconvert_exporter": "python",
      "file_extension": ".py"
    },
    "nteract": {
      "version": "0.28.0"
    }
  },
  "nbformat": 4,
  "nbformat_minor": 2
}