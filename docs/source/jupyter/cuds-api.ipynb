{
 "cells": [
  {
   "cell_type": "markdown",
   "metadata": {},
   "source": [
    "# Tutorial: CUDS API\n",
    "\n",
    "This tutorial introduces the CUDS API.\n",
    "The code given here is based on [this](https://github.com/simphony/osp-core/blob/master/examples/api_example.py) example."
   ]
  },
  {
   "cell_type": "markdown",
   "metadata": {},
   "source": [
    "## Background\n",
    "\n",
    "CUDS stands for Common Universal Data Structure, and it is used to uniformly represent an ontological individual. In the python implementation of OSP-core, it means that every ontological individual is an instance of the `Cuds` class.\n",
    "\n",
    "Conceptually, we consider CUDS objects as containers. The content of a CUDS object consists of other CUDS objects. This means that a CUDS is a [recursive data structure](https://en.wikipedia.org/wiki/Recursive_data_type). There are various types of relationships between a container and its contained objects. We will see this later on.\n",
    "\n",
    "As a data structure, CUDS exposes an API that provides the functionalities *Create*, *Read*, *Update* and *Delete* (or simply [CRUD](https://en.wikipedia.org/wiki/Create,_read,_update_and_delete)).\n",
    "Except *Create*, all the other functionalities are supported by the methods `add`, `get`, `remove`, `update` and `iter`, that are defined in the class `Cuds`. Here, we cover all of the methods except `update` since it is used to synchronize between two or more data sources, and in this tutorial we will only use one, that is the data we will create through our python code on the fly. Check out the [wrapper tutorial](multiple-wrappers.ipynb) to see the `update` method in action.\n",
    "\n",
    "Every CUDS object is related to an ontological concept via the ontological `is a` relation.\n",
    "In the python implementation of OSP-core, all ontological concepts are instances of the `OntologyEntity` class.\n",
    "The ontological concept that can be used to *Create* CUDS objects are instances of `OntologyClass`, a subclass of `OntologyEntity`.\n",
    "The ontological concepts are organized in namespaces."
   ]
  },
  {
   "cell_type": "markdown",
   "metadata": {},
   "source": [
    "## Let's get hands on\n",
    "We start by importing the example namespace from OSP-core. It consists of concepts that were automatically generated from the [dummy city ontology](https://github.com/simphony/osp-core/blob/master/osp/core/ontology/docs/city.ontology.yml). There is [another tutorial](#) on the ontology YAML file. However, it is not important for the purposes of this tutorial.\n",
    "\n",
    "Before we can start, you have to install the city ontology. Use out tool pico for this:"
   ]
  },
  {
   "cell_type": "code",
   "execution_count": 1,
   "metadata": {
    "tags": []
   },
   "outputs": [
    {
     "output_type": "stream",
     "name": "stdout",
     "text": "INFO 2020-08-06 08:03:23,850 [osp.core.ontology.installation]: Will install the following namespaces: ['city']\nINFO 2020-08-06 08:03:23,880 [osp.core.ontology.yml.yml_parser]: Parsing YAML ontology file /mnt/c/Users/urba/Desktop/repos/osp-core/osp/core/ontology/docs/city.ontology.yml\nINFO 2020-08-06 08:03:23,892 [osp.core.ontology.yml.yml_parser]: You can now use `from osp.core.namespaces import city`.\nINFO 2020-08-06 08:03:23,892 [osp.core.ontology.parser]: Loaded 367 ontology triples in total\nINFO 2020-08-06 08:03:23,927 [osp.core.ontology.installation]: Installation successful\n"
    }
   ],
   "source": [
    "!pico install city"
   ]
  },
  {
   "cell_type": "markdown",
   "metadata": {},
   "source": [
    "Now you can start coding:"
   ]
  },
  {
   "cell_type": "code",
   "execution_count": 2,
   "metadata": {
    "tags": []
   },
   "outputs": [],
   "source": [
    "# If you just installed the ontology from within this notebook and this line doesn't work, please restart the kernel and run this cell again.\n",
    "from osp.core.namespaces import city"
   ]
  },
  {
   "cell_type": "markdown",
   "metadata": {},
   "source": [
    "Let's create a CUDS object that represents the city of Freiburg:"
   ]
  },
  {
   "cell_type": "code",
   "execution_count": 3,
   "metadata": {},
   "outputs": [],
   "source": [
    "c = city.City(name=\"Freiburg\", coordinates=[47, 7])"
   ]
  },
  {
   "cell_type": "markdown",
   "metadata": {},
   "source": [
    "The variable `c` is assigned with a newly created CUDS object. This object was initialized with a name (Freiburg) and coordinates (\\[47, 7\\]). To understand why these two arguments were necessary, we'll have to take a look at the ontology. This will be explained in another tutorial."
   ]
  },
  {
   "cell_type": "markdown",
   "metadata": {},
   "source": [
    "Each CUDS object has a unique identifier (UID) which can be accessed:"
   ]
  },
  {
   "cell_type": "code",
   "execution_count": 4,
   "metadata": {
    "tags": []
   },
   "outputs": [
    {
     "output_type": "stream",
     "name": "stdout",
     "text": "uid of c: 34ffc443-9287-46de-b2aa-477a57f68a2f\n"
    }
   ],
   "source": [
    "print(\"uid of c: \" + str(c.uid))"
   ]
  },
  {
   "cell_type": "markdown",
   "metadata": {},
   "source": [
    "The type of an object can be queried as well:"
   ]
  },
  {
   "cell_type": "code",
   "execution_count": 5,
   "metadata": {
    "tags": []
   },
   "outputs": [
    {
     "output_type": "stream",
     "name": "stdout",
     "text": "type of c: city.City\n"
    }
   ],
   "source": [
    "print(\"type of c: \" + str(c.oclass))"
   ]
  },
  {
   "cell_type": "markdown",
   "metadata": {},
   "source": [
    "Let's add two citizens to our city object:"
   ]
  },
  {
   "cell_type": "code",
   "execution_count": 6,
   "metadata": {},
   "outputs": [
    {
     "output_type": "execute_result",
     "data": {
      "text/plain": "<city.Citizen: 088c08f9-7961-4586-b908-23170fb0f059,  CoreSession: @0x7f6c08683b20>"
     },
     "metadata": {},
     "execution_count": 6
    }
   ],
   "source": [
    "p1 = city.Citizen(name=\"Peter\")\n",
    "p2 = city.Citizen(name=\"Anne\")\n",
    "c.add(p1, rel=city.hasInhabitant)\n",
    "c.add(p2, rel=city.hasInhabitant)"
   ]
  },
  {
   "cell_type": "markdown",
   "metadata": {},
   "source": [
    "Note that the relationship type between the city and its two citizens in this case is 'HAS_INHABITANT'. In our context, this means that Anne and Peter are Freiburg inhabitants."
   ]
  },
  {
   "cell_type": "markdown",
   "metadata": {},
   "source": [
    "Next, we would like to iterate over the objects contained in the city object. We do so by using the `iter()` function:\n"
   ]
  },
  {
   "cell_type": "code",
   "execution_count": 7,
   "metadata": {
    "tags": []
   },
   "outputs": [
    {
     "output_type": "stream",
     "name": "stdout",
     "text": "uid: 703ec4ba-e89b-4e79-8985-5b6d31223328\nuid: 088c08f9-7961-4586-b908-23170fb0f059\n"
    }
   ],
   "source": [
    "for el in c.iter():\n",
    "    print(\"uid: \" + str(el.uid))"
   ]
  },
  {
   "cell_type": "markdown",
   "metadata": {},
   "source": [
    "We can `get()` an object from a container if we have a UID of one of its immediate contained objects:"
   ]
  },
  {
   "cell_type": "code",
   "execution_count": 8,
   "metadata": {
    "tags": []
   },
   "outputs": [
    {
     "output_type": "stream",
     "name": "stdout",
     "text": "city.Citizen: 703ec4ba-e89b-4e79-8985-5b6d31223328\n"
    }
   ],
   "source": [
    "print(c.get(p1.uid))"
   ]
  },
  {
   "cell_type": "markdown",
   "metadata": {},
   "source": [
    "We can also filter the contained objects by type: "
   ]
  },
  {
   "cell_type": "code",
   "execution_count": 9,
   "metadata": {
    "tags": []
   },
   "outputs": [
    {
     "output_type": "stream",
     "name": "stdout",
     "text": "[<city.Citizen: 703ec4ba-e89b-4e79-8985-5b6d31223328,  CoreSession: @0x7f6c08683b20>, <city.Citizen: 088c08f9-7961-4586-b908-23170fb0f059,  CoreSession: @0x7f6c08683b20>]\n"
    }
   ],
   "source": [
    "print(c.get(oclass=city.Citizen))"
   ]
  },
  {
   "cell_type": "markdown",
   "metadata": {},
   "source": [
    "We remove objects using the `remove()` function:"
   ]
  },
  {
   "cell_type": "code",
   "execution_count": 10,
   "metadata": {},
   "outputs": [],
   "source": [
    "c.remove(p1)\n",
    "# c.remove(p1.uid) also works!"
   ]
  },
  {
   "cell_type": "markdown",
   "metadata": {},
   "source": [
    "Let's close this tutorial by adding some neighbourhoods in a loop:"
   ]
  },
  {
   "cell_type": "code",
   "execution_count": 11,
   "metadata": {},
   "outputs": [],
   "source": [
    "for i in range(6):\n",
    "    c.add(city.Neighborhood(name=\"neighbourhood %s\" % i))"
   ]
  }
 ],
 "metadata": {},
 "nbformat": 4,
 "nbformat_minor": 2
}