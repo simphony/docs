{
 "metadata": {
  "language_info": {
   "codemirror_mode": {
    "name": "ipython",
    "version": 3
   },
   "file_extension": ".py",
   "mimetype": "text/x-python",
   "name": "python",
   "nbconvert_exporter": "python",
   "pygments_lexer": "ipython3",
   "version": 3
  },
  "orig_nbformat": 2
 },
 "nbformat": 4,
 "nbformat_minor": 2,
 "cells": [
  {
   "source": [
    "# Tutorial: SimGromacs wrapper\n",
    "In this tutorial we will go through an example of how to use the wrapper for the [GROMACS](https://www.gromacs.org/) simulation engine.\n",
    "You can find the wrapper [here](https://gitlab.cc-asp.fraunhofer.de/simphony/wrappers/simgromacs).\n",
    "\n",
    "## Background\n",
    "[GROMACS](https://www.gromacs.org/) is a simulation engine for performing molecular dynamics simulations by approximating solution to the Newtonian equations of motion for systems with a larger number of particles.\n",
    "\n",
    "The GROMACS wrapper was first introduced to SimPhoNy during the [FORCE](https://www.the-force-project.eu/) project.\n",
    "\n",
    "## Let’s get hands on\n",
    "\n",
    "### Installation\n",
    "We provide two ways for installing the wrapper: _locally_ or using a _Docker\n",
    "container_.\n",
    "\n",
    "#### Local installation\n",
    "The following requires you to have OSP core installed, as well as a recent\n",
    "version of the Gromacs simulation software (we have tested against [Gromacs\n",
    "2020](https://manual.gromacs.org/2020/release-notes/index.html) -- an\n",
    "installation script, `install_engine.sh`, is provided).\n",
    "\n",
    "Install the ontology via `pico install ontology.simgromacs.yml` and the actual SimGromacs wrapper by running `python3 setup.py install`.\n",
    "\n",
    "#### Docker installation\n",
    "The container installation, on the other hand, takes care of all of the\n",
    "requirements, but can take up to an hour to build for the first time.\n",
    "\n",
    "**Note**: To avoid unexpected errors and confusion, please make sure to use\n",
    "the provided installation script, rather than directly building using the\n",
    "`Dockerfile`, as we use a multi-stage build.\n",
    "\n",
    "Run `chmod +x && ./docker_install.sh` to create a container using our multi-stage build.\n",
    "\n",
    "### Setting up the simulation\n",
    "To run a GROMACS simulation through the SimGromacs wrapper, you need to specify the various simulation parameters in terms of [CUDS](./cuds_api.ipynb). An example can be found [here](https://gitlab.cc-asp.fraunhofer.de/simphony/wrappers/simgromacs/-/blob/master/examples/surfactant_SDS.py).\n",
    "\n",
    "**TODO**\n",
    "\n",
    "- explain the needed CUDS objects for a GROMACS simulation. A similar explanation is already given in the `README.md` file under _Running a simulation_ (**Note**: for the APACHE project the plan is to simplify quite a lot the needed objects for creating a GROMACS simulation. It would be useful to update this example, once these simplifications are in place)\n",
    "\n",
    "- the simulation makes use of default input files for GROMACS (discussed in the  `README.md` file under _Additional_), mention these as well"
   ],
   "cell_type": "markdown",
   "metadata": {}
  }
 ]
}